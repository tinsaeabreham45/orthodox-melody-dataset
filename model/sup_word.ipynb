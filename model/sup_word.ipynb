{
 "cells": [
  {
   "cell_type": "code",
   "execution_count": 1,
   "id": "01c30119",
   "metadata": {},
   "outputs": [],
   "source": [
    "import sentencepiece as spm\n",
    "\n",
    "spm.SentencePieceTrainer.train(\n",
    "    input='../data/normalized_poems.txt',\n",
    "    model_prefix='amharic_bpe',\n",
    "    vocab_size=12000,                 # You can change this to 4k, 10k etc.\n",
    "    model_type='bpe',                # Or 'unigram'\n",
    "    character_coverage=1.0,          # 1.0 for Amharic, not 0.9995 like English\n",
    "    pad_id=0, unk_id=1, bos_id=2, eos_id=3,\n",
    "    input_sentence_size=1000000,     # optional for sampling large corpus\n",
    "    shuffle_input_sentence=True\n",
    ")\n"
   ]
  },
  {
   "cell_type": "code",
   "execution_count": 4,
   "id": "5eaba9e3",
   "metadata": {},
   "outputs": [
    {
     "name": "stdout",
     "output_type": "stream",
     "text": [
      "['▁ድንግል', '▁ፈጣሪ', 'ዋን', '▁ወለ', 'ደ', 'ችው']\n",
      "[174, 565, 214, 948, 11775, 407]\n"
     ]
    }
   ],
   "source": [
    "\n",
    "sp = spm.SentencePieceProcessor()\n",
    "sp.load(\"amharic_bpe.model\")\n",
    "\n",
    "text = \"ድንግል ፈጣሪዋን ወለደችው\"\n",
    "tokens = sp.encode(text, out_type=str)\n",
    "\n",
    "print(tokens)  # subword tokens\n",
    "print(sp.encode(text))  # token IDs\n"
   ]
  },
  {
   "cell_type": "code",
   "execution_count": 5,
   "id": "2c808cf8",
   "metadata": {},
   "outputs": [
    {
     "name": "stdout",
     "output_type": "stream",
     "text": [
      "ድንግል ፈጣሪዋን ወለደችው\n"
     ]
    }
   ],
   "source": [
    "decoded = sp.decode(tokens)\n",
    "print(decoded)\n",
    "# Output: \"መዘመር ልጀምር ለእመቤታችን\"\n"
   ]
  },
  {
   "cell_type": "code",
   "execution_count": 6,
   "id": "87dcf4f6",
   "metadata": {},
   "outputs": [],
   "source": [
    "# Load your poem file\n",
    "with open(\"../data/normalized_poems.txt\", encoding=\"utf-8\") as f:\n",
    "    lines = f.readlines()\n",
    "\n",
    "# Convert all lines into token ID sequences\n",
    "tokenized_lines = [sp.encode(line.strip(), out_type=int) for line in lines if line.strip()]\n"
   ]
  },
  {
   "cell_type": "code",
   "execution_count": 8,
   "id": "60c325d1",
   "metadata": {},
   "outputs": [],
   "source": [
    "from itertools import chain\n",
    "\n",
    "# Flatten all lines into a single list of tokens\n",
    "flattened_tokens = list(chain.from_iterable(tokenized_lines))\n"
   ]
  },
  {
   "cell_type": "code",
   "execution_count": 10,
   "id": "8b512774",
   "metadata": {},
   "outputs": [
    {
     "name": "stdout",
     "output_type": "stream",
     "text": [
      "Total number of chunks: 249\n"
     ]
    }
   ],
   "source": [
    "seq_length = 128\n",
    "chunks = [flattened_tokens[i:i+seq_length] for i in range(0, len(flattened_tokens)-seq_length, seq_length)]\n",
    "print(f\"Total number of chunks: {len(chunks)}\")"
   ]
  },
  {
   "cell_type": "code",
   "execution_count": null,
   "id": "df5f4448",
   "metadata": {},
   "outputs": [
    {
     "ename": "ModuleNotFoundError",
     "evalue": "No module named 'datasets'",
     "output_type": "error",
     "traceback": [
      "\u001b[1;31m---------------------------------------------------------------------------\u001b[0m",
      "\u001b[1;31mModuleNotFoundError\u001b[0m                       Traceback (most recent call last)",
      "Cell \u001b[1;32mIn[11], line 1\u001b[0m\n\u001b[1;32m----> 1\u001b[0m \u001b[38;5;28;01mfrom\u001b[39;00m \u001b[38;5;21;01mdatasets\u001b[39;00m \u001b[38;5;28;01mimport\u001b[39;00m Dataset\n\u001b[0;32m      2\u001b[0m dataset \u001b[38;5;241m=\u001b[39m Dataset\u001b[38;5;241m.\u001b[39mfrom_dict({\u001b[38;5;124m\"\u001b[39m\u001b[38;5;124minput_ids\u001b[39m\u001b[38;5;124m\"\u001b[39m: chunks})\n",
      "\u001b[1;31mModuleNotFoundError\u001b[0m: No module named 'datasets'"
     ]
    }
   ],
   "source": [
    "from datasets import Dataset\n",
    "\n",
    "dataset = Dataset.from_dict({\"input_ids\": chunks})\n"
   ]
  },
  {
   "cell_type": "code",
   "execution_count": null,
   "id": "fa6421f6",
   "metadata": {},
   "outputs": [],
   "source": []
  }
 ],
 "metadata": {
  "kernelspec": {
   "display_name": "Python 3",
   "language": "python",
   "name": "python3"
  },
  "language_info": {
   "codemirror_mode": {
    "name": "ipython",
    "version": 3
   },
   "file_extension": ".py",
   "mimetype": "text/x-python",
   "name": "python",
   "nbconvert_exporter": "python",
   "pygments_lexer": "ipython3",
   "version": "3.12.4"
  }
 },
 "nbformat": 4,
 "nbformat_minor": 5
}
