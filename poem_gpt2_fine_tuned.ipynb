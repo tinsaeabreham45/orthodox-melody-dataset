{
  "nbformat": 4,
  "nbformat_minor": 0,
  "metadata": {
    "colab": {
      "provenance": [],
      "gpuType": "T4",
      "authorship_tag": "ABX9TyNgAo1sHXl1avcD+CrPx7in",
      "include_colab_link": true
    },
    "kernelspec": {
      "name": "python3",
      "display_name": "Python 3"
    },
    "language_info": {
      "name": "python"
    },
    "accelerator": "GPU",
    "widgets": {
      "application/vnd.jupyter.widget-state+json": {
        "8528e0a3bbd14cf08ae7c2745040b793": {
          "model_module": "@jupyter-widgets/controls",
          "model_name": "HBoxModel",
          "model_module_version": "1.5.0",
          "state": {
            "_dom_classes": [],
            "_model_module": "@jupyter-widgets/controls",
            "_model_module_version": "1.5.0",
            "_model_name": "HBoxModel",
            "_view_count": null,
            "_view_module": "@jupyter-widgets/controls",
            "_view_module_version": "1.5.0",
            "_view_name": "HBoxView",
            "box_style": "",
            "children": [
              "IPY_MODEL_fc2c26bc0b574f0c93018cb00e900489",
              "IPY_MODEL_4991e3568bfb4799b3dd5255151ad73e",
              "IPY_MODEL_ab9f1c62610e4ffd9acc6b3bf39fda3d"
            ],
            "layout": "IPY_MODEL_f7221de986bf4c43af2ab516686c725f"
          }
        },
        "fc2c26bc0b574f0c93018cb00e900489": {
          "model_module": "@jupyter-widgets/controls",
          "model_name": "HTMLModel",
          "model_module_version": "1.5.0",
          "state": {
            "_dom_classes": [],
            "_model_module": "@jupyter-widgets/controls",
            "_model_module_version": "1.5.0",
            "_model_name": "HTMLModel",
            "_view_count": null,
            "_view_module": "@jupyter-widgets/controls",
            "_view_module_version": "1.5.0",
            "_view_name": "HTMLView",
            "description": "",
            "description_tooltip": null,
            "layout": "IPY_MODEL_fbf7d1deae06481b804f083fec5792e3",
            "placeholder": "​",
            "style": "IPY_MODEL_35fcdeb16b824ffba6e9e455c93249a9",
            "value": "Map: 100%"
          }
        },
        "4991e3568bfb4799b3dd5255151ad73e": {
          "model_module": "@jupyter-widgets/controls",
          "model_name": "FloatProgressModel",
          "model_module_version": "1.5.0",
          "state": {
            "_dom_classes": [],
            "_model_module": "@jupyter-widgets/controls",
            "_model_module_version": "1.5.0",
            "_model_name": "FloatProgressModel",
            "_view_count": null,
            "_view_module": "@jupyter-widgets/controls",
            "_view_module_version": "1.5.0",
            "_view_name": "ProgressView",
            "bar_style": "success",
            "description": "",
            "description_tooltip": null,
            "layout": "IPY_MODEL_e373f6d51efc47bea8e394f215bce25c",
            "max": 6077,
            "min": 0,
            "orientation": "horizontal",
            "style": "IPY_MODEL_b749f511176b454396ae9e41d8a19781",
            "value": 6077
          }
        },
        "ab9f1c62610e4ffd9acc6b3bf39fda3d": {
          "model_module": "@jupyter-widgets/controls",
          "model_name": "HTMLModel",
          "model_module_version": "1.5.0",
          "state": {
            "_dom_classes": [],
            "_model_module": "@jupyter-widgets/controls",
            "_model_module_version": "1.5.0",
            "_model_name": "HTMLModel",
            "_view_count": null,
            "_view_module": "@jupyter-widgets/controls",
            "_view_module_version": "1.5.0",
            "_view_name": "HTMLView",
            "description": "",
            "description_tooltip": null,
            "layout": "IPY_MODEL_0d5090d8a11a4bf1b06529b0ec116f37",
            "placeholder": "​",
            "style": "IPY_MODEL_b2c6f3eb9b6848e9813c24f432ff158c",
            "value": " 6077/6077 [00:02&lt;00:00, 2660.98 examples/s]"
          }
        },
        "f7221de986bf4c43af2ab516686c725f": {
          "model_module": "@jupyter-widgets/base",
          "model_name": "LayoutModel",
          "model_module_version": "1.2.0",
          "state": {
            "_model_module": "@jupyter-widgets/base",
            "_model_module_version": "1.2.0",
            "_model_name": "LayoutModel",
            "_view_count": null,
            "_view_module": "@jupyter-widgets/base",
            "_view_module_version": "1.2.0",
            "_view_name": "LayoutView",
            "align_content": null,
            "align_items": null,
            "align_self": null,
            "border": null,
            "bottom": null,
            "display": null,
            "flex": null,
            "flex_flow": null,
            "grid_area": null,
            "grid_auto_columns": null,
            "grid_auto_flow": null,
            "grid_auto_rows": null,
            "grid_column": null,
            "grid_gap": null,
            "grid_row": null,
            "grid_template_areas": null,
            "grid_template_columns": null,
            "grid_template_rows": null,
            "height": null,
            "justify_content": null,
            "justify_items": null,
            "left": null,
            "margin": null,
            "max_height": null,
            "max_width": null,
            "min_height": null,
            "min_width": null,
            "object_fit": null,
            "object_position": null,
            "order": null,
            "overflow": null,
            "overflow_x": null,
            "overflow_y": null,
            "padding": null,
            "right": null,
            "top": null,
            "visibility": null,
            "width": null
          }
        },
        "fbf7d1deae06481b804f083fec5792e3": {
          "model_module": "@jupyter-widgets/base",
          "model_name": "LayoutModel",
          "model_module_version": "1.2.0",
          "state": {
            "_model_module": "@jupyter-widgets/base",
            "_model_module_version": "1.2.0",
            "_model_name": "LayoutModel",
            "_view_count": null,
            "_view_module": "@jupyter-widgets/base",
            "_view_module_version": "1.2.0",
            "_view_name": "LayoutView",
            "align_content": null,
            "align_items": null,
            "align_self": null,
            "border": null,
            "bottom": null,
            "display": null,
            "flex": null,
            "flex_flow": null,
            "grid_area": null,
            "grid_auto_columns": null,
            "grid_auto_flow": null,
            "grid_auto_rows": null,
            "grid_column": null,
            "grid_gap": null,
            "grid_row": null,
            "grid_template_areas": null,
            "grid_template_columns": null,
            "grid_template_rows": null,
            "height": null,
            "justify_content": null,
            "justify_items": null,
            "left": null,
            "margin": null,
            "max_height": null,
            "max_width": null,
            "min_height": null,
            "min_width": null,
            "object_fit": null,
            "object_position": null,
            "order": null,
            "overflow": null,
            "overflow_x": null,
            "overflow_y": null,
            "padding": null,
            "right": null,
            "top": null,
            "visibility": null,
            "width": null
          }
        },
        "35fcdeb16b824ffba6e9e455c93249a9": {
          "model_module": "@jupyter-widgets/controls",
          "model_name": "DescriptionStyleModel",
          "model_module_version": "1.5.0",
          "state": {
            "_model_module": "@jupyter-widgets/controls",
            "_model_module_version": "1.5.0",
            "_model_name": "DescriptionStyleModel",
            "_view_count": null,
            "_view_module": "@jupyter-widgets/base",
            "_view_module_version": "1.2.0",
            "_view_name": "StyleView",
            "description_width": ""
          }
        },
        "e373f6d51efc47bea8e394f215bce25c": {
          "model_module": "@jupyter-widgets/base",
          "model_name": "LayoutModel",
          "model_module_version": "1.2.0",
          "state": {
            "_model_module": "@jupyter-widgets/base",
            "_model_module_version": "1.2.0",
            "_model_name": "LayoutModel",
            "_view_count": null,
            "_view_module": "@jupyter-widgets/base",
            "_view_module_version": "1.2.0",
            "_view_name": "LayoutView",
            "align_content": null,
            "align_items": null,
            "align_self": null,
            "border": null,
            "bottom": null,
            "display": null,
            "flex": null,
            "flex_flow": null,
            "grid_area": null,
            "grid_auto_columns": null,
            "grid_auto_flow": null,
            "grid_auto_rows": null,
            "grid_column": null,
            "grid_gap": null,
            "grid_row": null,
            "grid_template_areas": null,
            "grid_template_columns": null,
            "grid_template_rows": null,
            "height": null,
            "justify_content": null,
            "justify_items": null,
            "left": null,
            "margin": null,
            "max_height": null,
            "max_width": null,
            "min_height": null,
            "min_width": null,
            "object_fit": null,
            "object_position": null,
            "order": null,
            "overflow": null,
            "overflow_x": null,
            "overflow_y": null,
            "padding": null,
            "right": null,
            "top": null,
            "visibility": null,
            "width": null
          }
        },
        "b749f511176b454396ae9e41d8a19781": {
          "model_module": "@jupyter-widgets/controls",
          "model_name": "ProgressStyleModel",
          "model_module_version": "1.5.0",
          "state": {
            "_model_module": "@jupyter-widgets/controls",
            "_model_module_version": "1.5.0",
            "_model_name": "ProgressStyleModel",
            "_view_count": null,
            "_view_module": "@jupyter-widgets/base",
            "_view_module_version": "1.2.0",
            "_view_name": "StyleView",
            "bar_color": null,
            "description_width": ""
          }
        },
        "0d5090d8a11a4bf1b06529b0ec116f37": {
          "model_module": "@jupyter-widgets/base",
          "model_name": "LayoutModel",
          "model_module_version": "1.2.0",
          "state": {
            "_model_module": "@jupyter-widgets/base",
            "_model_module_version": "1.2.0",
            "_model_name": "LayoutModel",
            "_view_count": null,
            "_view_module": "@jupyter-widgets/base",
            "_view_module_version": "1.2.0",
            "_view_name": "LayoutView",
            "align_content": null,
            "align_items": null,
            "align_self": null,
            "border": null,
            "bottom": null,
            "display": null,
            "flex": null,
            "flex_flow": null,
            "grid_area": null,
            "grid_auto_columns": null,
            "grid_auto_flow": null,
            "grid_auto_rows": null,
            "grid_column": null,
            "grid_gap": null,
            "grid_row": null,
            "grid_template_areas": null,
            "grid_template_columns": null,
            "grid_template_rows": null,
            "height": null,
            "justify_content": null,
            "justify_items": null,
            "left": null,
            "margin": null,
            "max_height": null,
            "max_width": null,
            "min_height": null,
            "min_width": null,
            "object_fit": null,
            "object_position": null,
            "order": null,
            "overflow": null,
            "overflow_x": null,
            "overflow_y": null,
            "padding": null,
            "right": null,
            "top": null,
            "visibility": null,
            "width": null
          }
        },
        "b2c6f3eb9b6848e9813c24f432ff158c": {
          "model_module": "@jupyter-widgets/controls",
          "model_name": "DescriptionStyleModel",
          "model_module_version": "1.5.0",
          "state": {
            "_model_module": "@jupyter-widgets/controls",
            "_model_module_version": "1.5.0",
            "_model_name": "DescriptionStyleModel",
            "_view_count": null,
            "_view_module": "@jupyter-widgets/base",
            "_view_module_version": "1.2.0",
            "_view_name": "StyleView",
            "description_width": ""
          }
        },
        "1789e2e8fb3840bc87cdbfd6fc5737d1": {
          "model_module": "@jupyter-widgets/controls",
          "model_name": "HBoxModel",
          "model_module_version": "1.5.0",
          "state": {
            "_dom_classes": [],
            "_model_module": "@jupyter-widgets/controls",
            "_model_module_version": "1.5.0",
            "_model_name": "HBoxModel",
            "_view_count": null,
            "_view_module": "@jupyter-widgets/controls",
            "_view_module_version": "1.5.0",
            "_view_name": "HBoxView",
            "box_style": "",
            "children": [
              "IPY_MODEL_198e38f97ac5418bb55473e74dcb5a85",
              "IPY_MODEL_466b7cd6567144b4adffc5a9a0d9105c",
              "IPY_MODEL_7f36a9e00750401ebdf345f5aeec223b"
            ],
            "layout": "IPY_MODEL_38c55592d4734674ad7892da99870cc0"
          }
        },
        "198e38f97ac5418bb55473e74dcb5a85": {
          "model_module": "@jupyter-widgets/controls",
          "model_name": "HTMLModel",
          "model_module_version": "1.5.0",
          "state": {
            "_dom_classes": [],
            "_model_module": "@jupyter-widgets/controls",
            "_model_module_version": "1.5.0",
            "_model_name": "HTMLModel",
            "_view_count": null,
            "_view_module": "@jupyter-widgets/controls",
            "_view_module_version": "1.5.0",
            "_view_name": "HTMLView",
            "description": "",
            "description_tooltip": null,
            "layout": "IPY_MODEL_845c6ba2957a42ccab29af646fcb4437",
            "placeholder": "​",
            "style": "IPY_MODEL_98a0ca604c994a3598301575fbe0b335",
            "value": "Map: 100%"
          }
        },
        "466b7cd6567144b4adffc5a9a0d9105c": {
          "model_module": "@jupyter-widgets/controls",
          "model_name": "FloatProgressModel",
          "model_module_version": "1.5.0",
          "state": {
            "_dom_classes": [],
            "_model_module": "@jupyter-widgets/controls",
            "_model_module_version": "1.5.0",
            "_model_name": "FloatProgressModel",
            "_view_count": null,
            "_view_module": "@jupyter-widgets/controls",
            "_view_module_version": "1.5.0",
            "_view_name": "ProgressView",
            "bar_style": "success",
            "description": "",
            "description_tooltip": null,
            "layout": "IPY_MODEL_73d8df9695f5412591757fde09f4797e",
            "max": 6077,
            "min": 0,
            "orientation": "horizontal",
            "style": "IPY_MODEL_1af171b9dcdc4e46a46420ef7df2e520",
            "value": 6077
          }
        },
        "7f36a9e00750401ebdf345f5aeec223b": {
          "model_module": "@jupyter-widgets/controls",
          "model_name": "HTMLModel",
          "model_module_version": "1.5.0",
          "state": {
            "_dom_classes": [],
            "_model_module": "@jupyter-widgets/controls",
            "_model_module_version": "1.5.0",
            "_model_name": "HTMLModel",
            "_view_count": null,
            "_view_module": "@jupyter-widgets/controls",
            "_view_module_version": "1.5.0",
            "_view_name": "HTMLView",
            "description": "",
            "description_tooltip": null,
            "layout": "IPY_MODEL_606bcbd52bb74fc3938067214467dbaa",
            "placeholder": "​",
            "style": "IPY_MODEL_88053cbbbb6e4e2cb548f002ae5d6073",
            "value": " 6077/6077 [00:01&lt;00:00, 3430.78 examples/s]"
          }
        },
        "38c55592d4734674ad7892da99870cc0": {
          "model_module": "@jupyter-widgets/base",
          "model_name": "LayoutModel",
          "model_module_version": "1.2.0",
          "state": {
            "_model_module": "@jupyter-widgets/base",
            "_model_module_version": "1.2.0",
            "_model_name": "LayoutModel",
            "_view_count": null,
            "_view_module": "@jupyter-widgets/base",
            "_view_module_version": "1.2.0",
            "_view_name": "LayoutView",
            "align_content": null,
            "align_items": null,
            "align_self": null,
            "border": null,
            "bottom": null,
            "display": null,
            "flex": null,
            "flex_flow": null,
            "grid_area": null,
            "grid_auto_columns": null,
            "grid_auto_flow": null,
            "grid_auto_rows": null,
            "grid_column": null,
            "grid_gap": null,
            "grid_row": null,
            "grid_template_areas": null,
            "grid_template_columns": null,
            "grid_template_rows": null,
            "height": null,
            "justify_content": null,
            "justify_items": null,
            "left": null,
            "margin": null,
            "max_height": null,
            "max_width": null,
            "min_height": null,
            "min_width": null,
            "object_fit": null,
            "object_position": null,
            "order": null,
            "overflow": null,
            "overflow_x": null,
            "overflow_y": null,
            "padding": null,
            "right": null,
            "top": null,
            "visibility": null,
            "width": null
          }
        },
        "845c6ba2957a42ccab29af646fcb4437": {
          "model_module": "@jupyter-widgets/base",
          "model_name": "LayoutModel",
          "model_module_version": "1.2.0",
          "state": {
            "_model_module": "@jupyter-widgets/base",
            "_model_module_version": "1.2.0",
            "_model_name": "LayoutModel",
            "_view_count": null,
            "_view_module": "@jupyter-widgets/base",
            "_view_module_version": "1.2.0",
            "_view_name": "LayoutView",
            "align_content": null,
            "align_items": null,
            "align_self": null,
            "border": null,
            "bottom": null,
            "display": null,
            "flex": null,
            "flex_flow": null,
            "grid_area": null,
            "grid_auto_columns": null,
            "grid_auto_flow": null,
            "grid_auto_rows": null,
            "grid_column": null,
            "grid_gap": null,
            "grid_row": null,
            "grid_template_areas": null,
            "grid_template_columns": null,
            "grid_template_rows": null,
            "height": null,
            "justify_content": null,
            "justify_items": null,
            "left": null,
            "margin": null,
            "max_height": null,
            "max_width": null,
            "min_height": null,
            "min_width": null,
            "object_fit": null,
            "object_position": null,
            "order": null,
            "overflow": null,
            "overflow_x": null,
            "overflow_y": null,
            "padding": null,
            "right": null,
            "top": null,
            "visibility": null,
            "width": null
          }
        },
        "98a0ca604c994a3598301575fbe0b335": {
          "model_module": "@jupyter-widgets/controls",
          "model_name": "DescriptionStyleModel",
          "model_module_version": "1.5.0",
          "state": {
            "_model_module": "@jupyter-widgets/controls",
            "_model_module_version": "1.5.0",
            "_model_name": "DescriptionStyleModel",
            "_view_count": null,
            "_view_module": "@jupyter-widgets/base",
            "_view_module_version": "1.2.0",
            "_view_name": "StyleView",
            "description_width": ""
          }
        },
        "73d8df9695f5412591757fde09f4797e": {
          "model_module": "@jupyter-widgets/base",
          "model_name": "LayoutModel",
          "model_module_version": "1.2.0",
          "state": {
            "_model_module": "@jupyter-widgets/base",
            "_model_module_version": "1.2.0",
            "_model_name": "LayoutModel",
            "_view_count": null,
            "_view_module": "@jupyter-widgets/base",
            "_view_module_version": "1.2.0",
            "_view_name": "LayoutView",
            "align_content": null,
            "align_items": null,
            "align_self": null,
            "border": null,
            "bottom": null,
            "display": null,
            "flex": null,
            "flex_flow": null,
            "grid_area": null,
            "grid_auto_columns": null,
            "grid_auto_flow": null,
            "grid_auto_rows": null,
            "grid_column": null,
            "grid_gap": null,
            "grid_row": null,
            "grid_template_areas": null,
            "grid_template_columns": null,
            "grid_template_rows": null,
            "height": null,
            "justify_content": null,
            "justify_items": null,
            "left": null,
            "margin": null,
            "max_height": null,
            "max_width": null,
            "min_height": null,
            "min_width": null,
            "object_fit": null,
            "object_position": null,
            "order": null,
            "overflow": null,
            "overflow_x": null,
            "overflow_y": null,
            "padding": null,
            "right": null,
            "top": null,
            "visibility": null,
            "width": null
          }
        },
        "1af171b9dcdc4e46a46420ef7df2e520": {
          "model_module": "@jupyter-widgets/controls",
          "model_name": "ProgressStyleModel",
          "model_module_version": "1.5.0",
          "state": {
            "_model_module": "@jupyter-widgets/controls",
            "_model_module_version": "1.5.0",
            "_model_name": "ProgressStyleModel",
            "_view_count": null,
            "_view_module": "@jupyter-widgets/base",
            "_view_module_version": "1.2.0",
            "_view_name": "StyleView",
            "bar_color": null,
            "description_width": ""
          }
        },
        "606bcbd52bb74fc3938067214467dbaa": {
          "model_module": "@jupyter-widgets/base",
          "model_name": "LayoutModel",
          "model_module_version": "1.2.0",
          "state": {
            "_model_module": "@jupyter-widgets/base",
            "_model_module_version": "1.2.0",
            "_model_name": "LayoutModel",
            "_view_count": null,
            "_view_module": "@jupyter-widgets/base",
            "_view_module_version": "1.2.0",
            "_view_name": "LayoutView",
            "align_content": null,
            "align_items": null,
            "align_self": null,
            "border": null,
            "bottom": null,
            "display": null,
            "flex": null,
            "flex_flow": null,
            "grid_area": null,
            "grid_auto_columns": null,
            "grid_auto_flow": null,
            "grid_auto_rows": null,
            "grid_column": null,
            "grid_gap": null,
            "grid_row": null,
            "grid_template_areas": null,
            "grid_template_columns": null,
            "grid_template_rows": null,
            "height": null,
            "justify_content": null,
            "justify_items": null,
            "left": null,
            "margin": null,
            "max_height": null,
            "max_width": null,
            "min_height": null,
            "min_width": null,
            "object_fit": null,
            "object_position": null,
            "order": null,
            "overflow": null,
            "overflow_x": null,
            "overflow_y": null,
            "padding": null,
            "right": null,
            "top": null,
            "visibility": null,
            "width": null
          }
        },
        "88053cbbbb6e4e2cb548f002ae5d6073": {
          "model_module": "@jupyter-widgets/controls",
          "model_name": "DescriptionStyleModel",
          "model_module_version": "1.5.0",
          "state": {
            "_model_module": "@jupyter-widgets/controls",
            "_model_module_version": "1.5.0",
            "_model_name": "DescriptionStyleModel",
            "_view_count": null,
            "_view_module": "@jupyter-widgets/base",
            "_view_module_version": "1.2.0",
            "_view_name": "StyleView",
            "description_width": ""
          }
        }
      }
    }
  },
  "cells": [
    {
      "cell_type": "markdown",
      "metadata": {
        "id": "view-in-github",
        "colab_type": "text"
      },
      "source": [
        "<a href=\"https://colab.research.google.com/github/tinsaeabreham45/orthodox-melody-dataset/blob/main/poem_gpt2_fine_tuned.ipynb\" target=\"_parent\"><img src=\"https://colab.research.google.com/assets/colab-badge.svg\" alt=\"Open In Colab\"/></a>"
      ]
    },
    {
      "cell_type": "code",
      "source": [
        "!pip install transformers tokenizers datasets peft"
      ],
      "metadata": {
        "colab": {
          "base_uri": "https://localhost:8080/"
        },
        "id": "NCxcWXrx-bGg",
        "outputId": "49a7ca0c-c3ff-4f7e-d20d-6580f30738fc"
      },
      "execution_count": 1,
      "outputs": [
        {
          "output_type": "stream",
          "name": "stdout",
          "text": [
            "Requirement already satisfied: transformers in /usr/local/lib/python3.11/dist-packages (4.51.3)\n",
            "Requirement already satisfied: tokenizers in /usr/local/lib/python3.11/dist-packages (0.21.1)\n",
            "Requirement already satisfied: datasets in /usr/local/lib/python3.11/dist-packages (2.14.4)\n",
            "Requirement already satisfied: peft in /usr/local/lib/python3.11/dist-packages (0.15.2)\n",
            "Requirement already satisfied: filelock in /usr/local/lib/python3.11/dist-packages (from transformers) (3.18.0)\n",
            "Requirement already satisfied: huggingface-hub<1.0,>=0.30.0 in /usr/local/lib/python3.11/dist-packages (from transformers) (0.31.1)\n",
            "Requirement already satisfied: numpy>=1.17 in /usr/local/lib/python3.11/dist-packages (from transformers) (2.0.2)\n",
            "Requirement already satisfied: packaging>=20.0 in /usr/local/lib/python3.11/dist-packages (from transformers) (24.2)\n",
            "Requirement already satisfied: pyyaml>=5.1 in /usr/local/lib/python3.11/dist-packages (from transformers) (6.0.2)\n",
            "Requirement already satisfied: regex!=2019.12.17 in /usr/local/lib/python3.11/dist-packages (from transformers) (2024.11.6)\n",
            "Requirement already satisfied: requests in /usr/local/lib/python3.11/dist-packages (from transformers) (2.32.3)\n",
            "Requirement already satisfied: safetensors>=0.4.3 in /usr/local/lib/python3.11/dist-packages (from transformers) (0.5.3)\n",
            "Requirement already satisfied: tqdm>=4.27 in /usr/local/lib/python3.11/dist-packages (from transformers) (4.67.1)\n",
            "Requirement already satisfied: pyarrow>=8.0.0 in /usr/local/lib/python3.11/dist-packages (from datasets) (18.1.0)\n",
            "Requirement already satisfied: dill<0.3.8,>=0.3.0 in /usr/local/lib/python3.11/dist-packages (from datasets) (0.3.7)\n",
            "Requirement already satisfied: pandas in /usr/local/lib/python3.11/dist-packages (from datasets) (2.2.2)\n",
            "Requirement already satisfied: xxhash in /usr/local/lib/python3.11/dist-packages (from datasets) (3.5.0)\n",
            "Requirement already satisfied: multiprocess in /usr/local/lib/python3.11/dist-packages (from datasets) (0.70.15)\n",
            "Requirement already satisfied: fsspec>=2021.11.1 in /usr/local/lib/python3.11/dist-packages (from fsspec[http]>=2021.11.1->datasets) (2025.3.2)\n",
            "Requirement already satisfied: aiohttp in /usr/local/lib/python3.11/dist-packages (from datasets) (3.11.15)\n",
            "Requirement already satisfied: psutil in /usr/local/lib/python3.11/dist-packages (from peft) (5.9.5)\n",
            "Requirement already satisfied: torch>=1.13.0 in /usr/local/lib/python3.11/dist-packages (from peft) (2.6.0+cu124)\n",
            "Requirement already satisfied: accelerate>=0.21.0 in /usr/local/lib/python3.11/dist-packages (from peft) (1.6.0)\n",
            "Requirement already satisfied: aiohappyeyeballs>=2.3.0 in /usr/local/lib/python3.11/dist-packages (from aiohttp->datasets) (2.6.1)\n",
            "Requirement already satisfied: aiosignal>=1.1.2 in /usr/local/lib/python3.11/dist-packages (from aiohttp->datasets) (1.3.2)\n",
            "Requirement already satisfied: attrs>=17.3.0 in /usr/local/lib/python3.11/dist-packages (from aiohttp->datasets) (25.3.0)\n",
            "Requirement already satisfied: frozenlist>=1.1.1 in /usr/local/lib/python3.11/dist-packages (from aiohttp->datasets) (1.6.0)\n",
            "Requirement already satisfied: multidict<7.0,>=4.5 in /usr/local/lib/python3.11/dist-packages (from aiohttp->datasets) (6.4.3)\n",
            "Requirement already satisfied: propcache>=0.2.0 in /usr/local/lib/python3.11/dist-packages (from aiohttp->datasets) (0.3.1)\n",
            "Requirement already satisfied: yarl<2.0,>=1.17.0 in /usr/local/lib/python3.11/dist-packages (from aiohttp->datasets) (1.20.0)\n",
            "Requirement already satisfied: typing-extensions>=3.7.4.3 in /usr/local/lib/python3.11/dist-packages (from huggingface-hub<1.0,>=0.30.0->transformers) (4.13.2)\n",
            "Requirement already satisfied: hf-xet<2.0.0,>=1.1.0 in /usr/local/lib/python3.11/dist-packages (from huggingface-hub<1.0,>=0.30.0->transformers) (1.1.0)\n",
            "Requirement already satisfied: charset-normalizer<4,>=2 in /usr/local/lib/python3.11/dist-packages (from requests->transformers) (3.4.2)\n",
            "Requirement already satisfied: idna<4,>=2.5 in /usr/local/lib/python3.11/dist-packages (from requests->transformers) (3.10)\n",
            "Requirement already satisfied: urllib3<3,>=1.21.1 in /usr/local/lib/python3.11/dist-packages (from requests->transformers) (2.4.0)\n",
            "Requirement already satisfied: certifi>=2017.4.17 in /usr/local/lib/python3.11/dist-packages (from requests->transformers) (2025.4.26)\n",
            "Requirement already satisfied: networkx in /usr/local/lib/python3.11/dist-packages (from torch>=1.13.0->peft) (3.4.2)\n",
            "Requirement already satisfied: jinja2 in /usr/local/lib/python3.11/dist-packages (from torch>=1.13.0->peft) (3.1.6)\n",
            "Collecting nvidia-cuda-nvrtc-cu12==12.4.127 (from torch>=1.13.0->peft)\n",
            "  Downloading nvidia_cuda_nvrtc_cu12-12.4.127-py3-none-manylinux2014_x86_64.whl.metadata (1.5 kB)\n",
            "Collecting nvidia-cuda-runtime-cu12==12.4.127 (from torch>=1.13.0->peft)\n",
            "  Downloading nvidia_cuda_runtime_cu12-12.4.127-py3-none-manylinux2014_x86_64.whl.metadata (1.5 kB)\n",
            "Collecting nvidia-cuda-cupti-cu12==12.4.127 (from torch>=1.13.0->peft)\n",
            "  Downloading nvidia_cuda_cupti_cu12-12.4.127-py3-none-manylinux2014_x86_64.whl.metadata (1.6 kB)\n",
            "Collecting nvidia-cudnn-cu12==9.1.0.70 (from torch>=1.13.0->peft)\n",
            "  Downloading nvidia_cudnn_cu12-9.1.0.70-py3-none-manylinux2014_x86_64.whl.metadata (1.6 kB)\n",
            "Collecting nvidia-cublas-cu12==12.4.5.8 (from torch>=1.13.0->peft)\n",
            "  Downloading nvidia_cublas_cu12-12.4.5.8-py3-none-manylinux2014_x86_64.whl.metadata (1.5 kB)\n",
            "Collecting nvidia-cufft-cu12==11.2.1.3 (from torch>=1.13.0->peft)\n",
            "  Downloading nvidia_cufft_cu12-11.2.1.3-py3-none-manylinux2014_x86_64.whl.metadata (1.5 kB)\n",
            "Collecting nvidia-curand-cu12==10.3.5.147 (from torch>=1.13.0->peft)\n",
            "  Downloading nvidia_curand_cu12-10.3.5.147-py3-none-manylinux2014_x86_64.whl.metadata (1.5 kB)\n",
            "Collecting nvidia-cusolver-cu12==11.6.1.9 (from torch>=1.13.0->peft)\n",
            "  Downloading nvidia_cusolver_cu12-11.6.1.9-py3-none-manylinux2014_x86_64.whl.metadata (1.6 kB)\n",
            "Collecting nvidia-cusparse-cu12==12.3.1.170 (from torch>=1.13.0->peft)\n",
            "  Downloading nvidia_cusparse_cu12-12.3.1.170-py3-none-manylinux2014_x86_64.whl.metadata (1.6 kB)\n",
            "Requirement already satisfied: nvidia-cusparselt-cu12==0.6.2 in /usr/local/lib/python3.11/dist-packages (from torch>=1.13.0->peft) (0.6.2)\n",
            "Requirement already satisfied: nvidia-nccl-cu12==2.21.5 in /usr/local/lib/python3.11/dist-packages (from torch>=1.13.0->peft) (2.21.5)\n",
            "Requirement already satisfied: nvidia-nvtx-cu12==12.4.127 in /usr/local/lib/python3.11/dist-packages (from torch>=1.13.0->peft) (12.4.127)\n",
            "Collecting nvidia-nvjitlink-cu12==12.4.127 (from torch>=1.13.0->peft)\n",
            "  Downloading nvidia_nvjitlink_cu12-12.4.127-py3-none-manylinux2014_x86_64.whl.metadata (1.5 kB)\n",
            "Requirement already satisfied: triton==3.2.0 in /usr/local/lib/python3.11/dist-packages (from torch>=1.13.0->peft) (3.2.0)\n",
            "Requirement already satisfied: sympy==1.13.1 in /usr/local/lib/python3.11/dist-packages (from torch>=1.13.0->peft) (1.13.1)\n",
            "Requirement already satisfied: mpmath<1.4,>=1.1.0 in /usr/local/lib/python3.11/dist-packages (from sympy==1.13.1->torch>=1.13.0->peft) (1.3.0)\n",
            "Requirement already satisfied: python-dateutil>=2.8.2 in /usr/local/lib/python3.11/dist-packages (from pandas->datasets) (2.9.0.post0)\n",
            "Requirement already satisfied: pytz>=2020.1 in /usr/local/lib/python3.11/dist-packages (from pandas->datasets) (2025.2)\n",
            "Requirement already satisfied: tzdata>=2022.7 in /usr/local/lib/python3.11/dist-packages (from pandas->datasets) (2025.2)\n",
            "Requirement already satisfied: six>=1.5 in /usr/local/lib/python3.11/dist-packages (from python-dateutil>=2.8.2->pandas->datasets) (1.17.0)\n",
            "Requirement already satisfied: MarkupSafe>=2.0 in /usr/local/lib/python3.11/dist-packages (from jinja2->torch>=1.13.0->peft) (3.0.2)\n",
            "Downloading nvidia_cublas_cu12-12.4.5.8-py3-none-manylinux2014_x86_64.whl (363.4 MB)\n",
            "\u001b[2K   \u001b[90m━━━━━━━━━━━━━━━━━━━━━━━━━━━━━━━━━━━━━━━━\u001b[0m \u001b[32m363.4/363.4 MB\u001b[0m \u001b[31m3.8 MB/s\u001b[0m eta \u001b[36m0:00:00\u001b[0m\n",
            "\u001b[?25hDownloading nvidia_cuda_cupti_cu12-12.4.127-py3-none-manylinux2014_x86_64.whl (13.8 MB)\n",
            "\u001b[2K   \u001b[90m━━━━━━━━━━━━━━━━━━━━━━━━━━━━━━━━━━━━━━━━\u001b[0m \u001b[32m13.8/13.8 MB\u001b[0m \u001b[31m127.0 MB/s\u001b[0m eta \u001b[36m0:00:00\u001b[0m\n",
            "\u001b[?25hDownloading nvidia_cuda_nvrtc_cu12-12.4.127-py3-none-manylinux2014_x86_64.whl (24.6 MB)\n",
            "\u001b[2K   \u001b[90m━━━━━━━━━━━━━━━━━━━━━━━━━━━━━━━━━━━━━━━━\u001b[0m \u001b[32m24.6/24.6 MB\u001b[0m \u001b[31m99.5 MB/s\u001b[0m eta \u001b[36m0:00:00\u001b[0m\n",
            "\u001b[?25hDownloading nvidia_cuda_runtime_cu12-12.4.127-py3-none-manylinux2014_x86_64.whl (883 kB)\n",
            "\u001b[2K   \u001b[90m━━━━━━━━━━━━━━━━━━━━━━━━━━━━━━━━━━━━━━━━\u001b[0m \u001b[32m883.7/883.7 kB\u001b[0m \u001b[31m64.7 MB/s\u001b[0m eta \u001b[36m0:00:00\u001b[0m\n",
            "\u001b[?25hDownloading nvidia_cudnn_cu12-9.1.0.70-py3-none-manylinux2014_x86_64.whl (664.8 MB)\n",
            "\u001b[2K   \u001b[90m━━━━━━━━━━━━━━━━━━━━━━━━━━━━━━━━━━━━━━━━\u001b[0m \u001b[32m664.8/664.8 MB\u001b[0m \u001b[31m1.3 MB/s\u001b[0m eta \u001b[36m0:00:00\u001b[0m\n",
            "\u001b[?25hDownloading nvidia_cufft_cu12-11.2.1.3-py3-none-manylinux2014_x86_64.whl (211.5 MB)\n",
            "\u001b[2K   \u001b[90m━━━━━━━━━━━━━━━━━━━━━━━━━━━━━━━━━━━━━━━━\u001b[0m \u001b[32m211.5/211.5 MB\u001b[0m \u001b[31m3.8 MB/s\u001b[0m eta \u001b[36m0:00:00\u001b[0m\n",
            "\u001b[?25hDownloading nvidia_curand_cu12-10.3.5.147-py3-none-manylinux2014_x86_64.whl (56.3 MB)\n",
            "\u001b[2K   \u001b[90m━━━━━━━━━━━━━━━━━━━━━━━━━━━━━━━━━━━━━━━━\u001b[0m \u001b[32m56.3/56.3 MB\u001b[0m \u001b[31m12.0 MB/s\u001b[0m eta \u001b[36m0:00:00\u001b[0m\n",
            "\u001b[?25hDownloading nvidia_cusolver_cu12-11.6.1.9-py3-none-manylinux2014_x86_64.whl (127.9 MB)\n",
            "\u001b[2K   \u001b[90m━━━━━━━━━━━━━━━━━━━━━━━━━━━━━━━━━━━━━━━━\u001b[0m \u001b[32m127.9/127.9 MB\u001b[0m \u001b[31m8.0 MB/s\u001b[0m eta \u001b[36m0:00:00\u001b[0m\n",
            "\u001b[?25hDownloading nvidia_cusparse_cu12-12.3.1.170-py3-none-manylinux2014_x86_64.whl (207.5 MB)\n",
            "\u001b[2K   \u001b[90m━━━━━━━━━━━━━━━━━━━━━━━━━━━━━━━━━━━━━━━━\u001b[0m \u001b[32m207.5/207.5 MB\u001b[0m \u001b[31m5.5 MB/s\u001b[0m eta \u001b[36m0:00:00\u001b[0m\n",
            "\u001b[?25hDownloading nvidia_nvjitlink_cu12-12.4.127-py3-none-manylinux2014_x86_64.whl (21.1 MB)\n",
            "\u001b[2K   \u001b[90m━━━━━━━━━━━━━━━━━━━━━━━━━━━━━━━━━━━━━━━━\u001b[0m \u001b[32m21.1/21.1 MB\u001b[0m \u001b[31m109.6 MB/s\u001b[0m eta \u001b[36m0:00:00\u001b[0m\n",
            "\u001b[?25hInstalling collected packages: nvidia-nvjitlink-cu12, nvidia-curand-cu12, nvidia-cufft-cu12, nvidia-cuda-runtime-cu12, nvidia-cuda-nvrtc-cu12, nvidia-cuda-cupti-cu12, nvidia-cublas-cu12, nvidia-cusparse-cu12, nvidia-cudnn-cu12, nvidia-cusolver-cu12\n",
            "  Attempting uninstall: nvidia-nvjitlink-cu12\n",
            "    Found existing installation: nvidia-nvjitlink-cu12 12.5.82\n",
            "    Uninstalling nvidia-nvjitlink-cu12-12.5.82:\n",
            "      Successfully uninstalled nvidia-nvjitlink-cu12-12.5.82\n",
            "  Attempting uninstall: nvidia-curand-cu12\n",
            "    Found existing installation: nvidia-curand-cu12 10.3.6.82\n",
            "    Uninstalling nvidia-curand-cu12-10.3.6.82:\n",
            "      Successfully uninstalled nvidia-curand-cu12-10.3.6.82\n",
            "  Attempting uninstall: nvidia-cufft-cu12\n",
            "    Found existing installation: nvidia-cufft-cu12 11.2.3.61\n",
            "    Uninstalling nvidia-cufft-cu12-11.2.3.61:\n",
            "      Successfully uninstalled nvidia-cufft-cu12-11.2.3.61\n",
            "  Attempting uninstall: nvidia-cuda-runtime-cu12\n",
            "    Found existing installation: nvidia-cuda-runtime-cu12 12.5.82\n",
            "    Uninstalling nvidia-cuda-runtime-cu12-12.5.82:\n",
            "      Successfully uninstalled nvidia-cuda-runtime-cu12-12.5.82\n",
            "  Attempting uninstall: nvidia-cuda-nvrtc-cu12\n",
            "    Found existing installation: nvidia-cuda-nvrtc-cu12 12.5.82\n",
            "    Uninstalling nvidia-cuda-nvrtc-cu12-12.5.82:\n",
            "      Successfully uninstalled nvidia-cuda-nvrtc-cu12-12.5.82\n",
            "  Attempting uninstall: nvidia-cuda-cupti-cu12\n",
            "    Found existing installation: nvidia-cuda-cupti-cu12 12.5.82\n",
            "    Uninstalling nvidia-cuda-cupti-cu12-12.5.82:\n",
            "      Successfully uninstalled nvidia-cuda-cupti-cu12-12.5.82\n",
            "  Attempting uninstall: nvidia-cublas-cu12\n",
            "    Found existing installation: nvidia-cublas-cu12 12.5.3.2\n",
            "    Uninstalling nvidia-cublas-cu12-12.5.3.2:\n",
            "      Successfully uninstalled nvidia-cublas-cu12-12.5.3.2\n",
            "  Attempting uninstall: nvidia-cusparse-cu12\n",
            "    Found existing installation: nvidia-cusparse-cu12 12.5.1.3\n",
            "    Uninstalling nvidia-cusparse-cu12-12.5.1.3:\n",
            "      Successfully uninstalled nvidia-cusparse-cu12-12.5.1.3\n",
            "  Attempting uninstall: nvidia-cudnn-cu12\n",
            "    Found existing installation: nvidia-cudnn-cu12 9.3.0.75\n",
            "    Uninstalling nvidia-cudnn-cu12-9.3.0.75:\n",
            "      Successfully uninstalled nvidia-cudnn-cu12-9.3.0.75\n",
            "  Attempting uninstall: nvidia-cusolver-cu12\n",
            "    Found existing installation: nvidia-cusolver-cu12 11.6.3.83\n",
            "    Uninstalling nvidia-cusolver-cu12-11.6.3.83:\n",
            "      Successfully uninstalled nvidia-cusolver-cu12-11.6.3.83\n",
            "Successfully installed nvidia-cublas-cu12-12.4.5.8 nvidia-cuda-cupti-cu12-12.4.127 nvidia-cuda-nvrtc-cu12-12.4.127 nvidia-cuda-runtime-cu12-12.4.127 nvidia-cudnn-cu12-9.1.0.70 nvidia-cufft-cu12-11.2.1.3 nvidia-curand-cu12-10.3.5.147 nvidia-cusolver-cu12-11.6.1.9 nvidia-cusparse-cu12-12.3.1.170 nvidia-nvjitlink-cu12-12.4.127\n"
          ]
        }
      ]
    },
    {
      "cell_type": "code",
      "source": [
        "from tokenizers import Tokenizer, models, pre_tokenizers, trainers\n",
        "from tokenizers.pre_tokenizers import Whitespace\n",
        "from transformers import GPT2LMHeadModel\n",
        "from datasets import load_dataset\n",
        "from transformers import PreTrainedTokenizerFast\n",
        "from transformers import Trainer, TrainingArguments\n",
        "from peft import LoraConfig, get_peft_model\n",
        "from datasets import load_dataset"
      ],
      "metadata": {
        "id": "8ZtsRiLM-bDt"
      },
      "execution_count": 2,
      "outputs": []
    },
    {
      "cell_type": "code",
      "source": [
        "from google.colab import drive\n",
        "drive.mount('/content/drive')"
      ],
      "metadata": {
        "colab": {
          "base_uri": "https://localhost:8080/"
        },
        "id": "XXMYpKQ2-a1p",
        "outputId": "8e194c59-565b-48e6-de12-174bb7f22754"
      },
      "execution_count": 3,
      "outputs": [
        {
          "output_type": "stream",
          "name": "stdout",
          "text": [
            "Mounted at /content/drive\n"
          ]
        }
      ]
    },
    {
      "cell_type": "code",
      "source": [
        "dataset_path = \"/content/drive/MyDrive/gpt-2_model/normalized_poems.txt\"\n",
        "tokenizer = Tokenizer(models.BPE())\n",
        "tokenizer.pre_tokenizer = Whitespace()\n",
        "special_tokens = [\"<|endoftext|>\"]\n",
        "\n",
        "trainer = trainers.BpeTrainer(\n",
        "    vocab_size=12000,\n",
        "    min_frequency=2,\n",
        "    special_tokens=special_tokens\n",
        ")\n",
        "\n",
        "def get_training_corpus():\n",
        "    with open(dataset_path, \"r\", encoding=\"utf-8\") as f:\n",
        "        for line in f:\n",
        "            yield line\n",
        "\n",
        "tokenizer.train_from_iterator(get_training_corpus(), trainer)\n",
        "tokenizer.save(\"/content/drive/MyDrive/gpt-2_model/amharic_bpe_tokenizer.json\")"
      ],
      "metadata": {
        "id": "RxOLfGln-_qD"
      },
      "execution_count": 3,
      "outputs": []
    },
    {
      "cell_type": "code",
      "execution_count": 4,
      "metadata": {
        "colab": {
          "base_uri": "https://localhost:8080/"
        },
        "id": "owfchP_g-UHM",
        "outputId": "5ca37264-d74d-4c5a-c7f2-87da0ca07cd6"
      },
      "outputs": [
        {
          "output_type": "execute_result",
          "data": {
            "text/plain": [
              "('/content/drive/MyDrive/gpt-2_model/amharic_gpt2_tokenizer/tokenizer_config.json',\n",
              " '/content/drive/MyDrive/gpt-2_model/amharic_gpt2_tokenizer/special_tokens_map.json',\n",
              " '/content/drive/MyDrive/gpt-2_model/amharic_gpt2_tokenizer/tokenizer.json')"
            ]
          },
          "metadata": {},
          "execution_count": 4
        }
      ],
      "source": [
        "tokenizer = PreTrainedTokenizerFast(\n",
        "    tokenizer_file = \"/content/drive/MyDrive/gpt-2_model/amharic_bpe_tokenizer.json\",\n",
        "    bos_token = \"<|endoftext|>\",\n",
        "    eos_token=\"<|endoftext|>\",\n",
        "    unk_token=\"<|unk|>\",\n",
        "    pad_token=\"<|pad|>\"\n",
        ")\n",
        "\n",
        "tokenizer.save_pretrained(\"/content/drive/MyDrive/gpt-2_model/amharic_gpt2_tokenizer\")"
      ]
    },
    {
      "cell_type": "code",
      "source": [
        "# Test the tokenizer\n",
        "text = \"ለድንግል ይገባል ውዳሤ ምሥጋና\"\n",
        "tokens = tokenizer.encode(text)\n",
        "print(\"Tokens:\", tokens)\n",
        "print(\"Decoded:\", tokenizer.decode(tokens))"
      ],
      "metadata": {
        "colab": {
          "base_uri": "https://localhost:8080/"
        },
        "id": "tnG8i_n1BPaX",
        "outputId": "97dec907-86a3-4605-9a10-697bfd384614"
      },
      "execution_count": 5,
      "outputs": [
        {
          "output_type": "stream",
          "name": "stdout",
          "text": [
            "Tokens: [10, 319, 6902, 2307, 988]\n",
            "Decoded: ለ ድንግል ይገባል ውዳሤ ምሥጋና\n"
          ]
        }
      ]
    },
    {
      "cell_type": "code",
      "source": [
        "model = GPT2LMHeadModel.from_pretrained(\"gpt2\")\n",
        "model.resize_token_embeddings(len(tokenizer))"
      ],
      "metadata": {
        "colab": {
          "base_uri": "https://localhost:8080/"
        },
        "id": "rAog8eg1BcmP",
        "outputId": "767166f2-25ae-496a-ac10-51e9f00ff9e8"
      },
      "execution_count": 6,
      "outputs": [
        {
          "output_type": "stream",
          "name": "stderr",
          "text": [
            "/usr/local/lib/python3.11/dist-packages/huggingface_hub/utils/_auth.py:94: UserWarning: \n",
            "The secret `HF_TOKEN` does not exist in your Colab secrets.\n",
            "To authenticate with the Hugging Face Hub, create a token in your settings tab (https://huggingface.co/settings/tokens), set it as secret in your Google Colab and restart your session.\n",
            "You will be able to reuse this secret in all of your notebooks.\n",
            "Please note that authentication is recommended but still optional to access public models or datasets.\n",
            "  warnings.warn(\n"
          ]
        },
        {
          "output_type": "execute_result",
          "data": {
            "text/plain": [
              "Embedding(7212, 768)"
            ]
          },
          "metadata": {},
          "execution_count": 6
        }
      ]
    },
    {
      "cell_type": "code",
      "source": [
        "pip install -U datasets"
      ],
      "metadata": {
        "colab": {
          "base_uri": "https://localhost:8080/",
          "height": 1000
        },
        "id": "AimYHVirDLNE",
        "outputId": "6edbade8-61f7-4060-d8c7-203c67ff79ce"
      },
      "execution_count": 11,
      "outputs": [
        {
          "output_type": "stream",
          "name": "stdout",
          "text": [
            "Requirement already satisfied: datasets in /usr/local/lib/python3.11/dist-packages (2.14.4)\n",
            "Collecting datasets\n",
            "  Downloading datasets-3.6.0-py3-none-any.whl.metadata (19 kB)\n",
            "Requirement already satisfied: filelock in /usr/local/lib/python3.11/dist-packages (from datasets) (3.18.0)\n",
            "Requirement already satisfied: numpy>=1.17 in /usr/local/lib/python3.11/dist-packages (from datasets) (2.0.2)\n",
            "Requirement already satisfied: pyarrow>=15.0.0 in /usr/local/lib/python3.11/dist-packages (from datasets) (18.1.0)\n",
            "Requirement already satisfied: dill<0.3.9,>=0.3.0 in /usr/local/lib/python3.11/dist-packages (from datasets) (0.3.7)\n",
            "Requirement already satisfied: pandas in /usr/local/lib/python3.11/dist-packages (from datasets) (2.2.2)\n",
            "Requirement already satisfied: requests>=2.32.2 in /usr/local/lib/python3.11/dist-packages (from datasets) (2.32.3)\n",
            "Requirement already satisfied: tqdm>=4.66.3 in /usr/local/lib/python3.11/dist-packages (from datasets) (4.67.1)\n",
            "Requirement already satisfied: xxhash in /usr/local/lib/python3.11/dist-packages (from datasets) (3.5.0)\n",
            "Requirement already satisfied: multiprocess<0.70.17 in /usr/local/lib/python3.11/dist-packages (from datasets) (0.70.15)\n",
            "Collecting fsspec<=2025.3.0,>=2023.1.0 (from fsspec[http]<=2025.3.0,>=2023.1.0->datasets)\n",
            "  Downloading fsspec-2025.3.0-py3-none-any.whl.metadata (11 kB)\n",
            "Requirement already satisfied: huggingface-hub>=0.24.0 in /usr/local/lib/python3.11/dist-packages (from datasets) (0.31.1)\n",
            "Requirement already satisfied: packaging in /usr/local/lib/python3.11/dist-packages (from datasets) (24.2)\n",
            "Requirement already satisfied: pyyaml>=5.1 in /usr/local/lib/python3.11/dist-packages (from datasets) (6.0.2)\n",
            "Requirement already satisfied: aiohttp!=4.0.0a0,!=4.0.0a1 in /usr/local/lib/python3.11/dist-packages (from fsspec[http]<=2025.3.0,>=2023.1.0->datasets) (3.11.15)\n",
            "Requirement already satisfied: typing-extensions>=3.7.4.3 in /usr/local/lib/python3.11/dist-packages (from huggingface-hub>=0.24.0->datasets) (4.13.2)\n",
            "Requirement already satisfied: hf-xet<2.0.0,>=1.1.0 in /usr/local/lib/python3.11/dist-packages (from huggingface-hub>=0.24.0->datasets) (1.1.0)\n",
            "Requirement already satisfied: charset-normalizer<4,>=2 in /usr/local/lib/python3.11/dist-packages (from requests>=2.32.2->datasets) (3.4.2)\n",
            "Requirement already satisfied: idna<4,>=2.5 in /usr/local/lib/python3.11/dist-packages (from requests>=2.32.2->datasets) (3.10)\n",
            "Requirement already satisfied: urllib3<3,>=1.21.1 in /usr/local/lib/python3.11/dist-packages (from requests>=2.32.2->datasets) (2.4.0)\n",
            "Requirement already satisfied: certifi>=2017.4.17 in /usr/local/lib/python3.11/dist-packages (from requests>=2.32.2->datasets) (2025.4.26)\n",
            "Requirement already satisfied: python-dateutil>=2.8.2 in /usr/local/lib/python3.11/dist-packages (from pandas->datasets) (2.9.0.post0)\n",
            "Requirement already satisfied: pytz>=2020.1 in /usr/local/lib/python3.11/dist-packages (from pandas->datasets) (2025.2)\n",
            "Requirement already satisfied: tzdata>=2022.7 in /usr/local/lib/python3.11/dist-packages (from pandas->datasets) (2025.2)\n",
            "Requirement already satisfied: aiohappyeyeballs>=2.3.0 in /usr/local/lib/python3.11/dist-packages (from aiohttp!=4.0.0a0,!=4.0.0a1->fsspec[http]<=2025.3.0,>=2023.1.0->datasets) (2.6.1)\n",
            "Requirement already satisfied: aiosignal>=1.1.2 in /usr/local/lib/python3.11/dist-packages (from aiohttp!=4.0.0a0,!=4.0.0a1->fsspec[http]<=2025.3.0,>=2023.1.0->datasets) (1.3.2)\n",
            "Requirement already satisfied: attrs>=17.3.0 in /usr/local/lib/python3.11/dist-packages (from aiohttp!=4.0.0a0,!=4.0.0a1->fsspec[http]<=2025.3.0,>=2023.1.0->datasets) (25.3.0)\n",
            "Requirement already satisfied: frozenlist>=1.1.1 in /usr/local/lib/python3.11/dist-packages (from aiohttp!=4.0.0a0,!=4.0.0a1->fsspec[http]<=2025.3.0,>=2023.1.0->datasets) (1.6.0)\n",
            "Requirement already satisfied: multidict<7.0,>=4.5 in /usr/local/lib/python3.11/dist-packages (from aiohttp!=4.0.0a0,!=4.0.0a1->fsspec[http]<=2025.3.0,>=2023.1.0->datasets) (6.4.3)\n",
            "Requirement already satisfied: propcache>=0.2.0 in /usr/local/lib/python3.11/dist-packages (from aiohttp!=4.0.0a0,!=4.0.0a1->fsspec[http]<=2025.3.0,>=2023.1.0->datasets) (0.3.1)\n",
            "Requirement already satisfied: yarl<2.0,>=1.17.0 in /usr/local/lib/python3.11/dist-packages (from aiohttp!=4.0.0a0,!=4.0.0a1->fsspec[http]<=2025.3.0,>=2023.1.0->datasets) (1.20.0)\n",
            "Requirement already satisfied: six>=1.5 in /usr/local/lib/python3.11/dist-packages (from python-dateutil>=2.8.2->pandas->datasets) (1.17.0)\n",
            "Downloading datasets-3.6.0-py3-none-any.whl (491 kB)\n",
            "\u001b[2K   \u001b[90m━━━━━━━━━━━━━━━━━━━━━━━━━━━━━━━━━━━━━━━━\u001b[0m \u001b[32m491.5/491.5 kB\u001b[0m \u001b[31m37.6 MB/s\u001b[0m eta \u001b[36m0:00:00\u001b[0m\n",
            "\u001b[?25hDownloading fsspec-2025.3.0-py3-none-any.whl (193 kB)\n",
            "\u001b[2K   \u001b[90m━━━━━━━━━━━━━━━━━━━━━━━━━━━━━━━━━━━━━━━━\u001b[0m \u001b[32m193.6/193.6 kB\u001b[0m \u001b[31m19.6 MB/s\u001b[0m eta \u001b[36m0:00:00\u001b[0m\n",
            "\u001b[?25hInstalling collected packages: fsspec, datasets\n",
            "  Attempting uninstall: fsspec\n",
            "    Found existing installation: fsspec 2025.3.2\n",
            "    Uninstalling fsspec-2025.3.2:\n",
            "      Successfully uninstalled fsspec-2025.3.2\n",
            "  Attempting uninstall: datasets\n",
            "    Found existing installation: datasets 2.14.4\n",
            "    Uninstalling datasets-2.14.4:\n",
            "      Successfully uninstalled datasets-2.14.4\n",
            "\u001b[31mERROR: pip's dependency resolver does not currently take into account all the packages that are installed. This behaviour is the source of the following dependency conflicts.\n",
            "gcsfs 2025.3.2 requires fsspec==2025.3.2, but you have fsspec 2025.3.0 which is incompatible.\u001b[0m\u001b[31m\n",
            "\u001b[0mSuccessfully installed datasets-3.6.0 fsspec-2025.3.0\n"
          ]
        },
        {
          "output_type": "display_data",
          "data": {
            "application/vnd.colab-display-data+json": {
              "pip_warning": {
                "packages": [
                  "datasets"
                ]
              },
              "id": "d8c80077d7fe4fa0999b3e87df2bd5a9"
            }
          },
          "metadata": {}
        }
      ]
    },
    {
      "cell_type": "code",
      "source": [
        "tokenizer = PreTrainedTokenizerFast.from_pretrained(\"/content/drive/MyDrive/gpt-2_model/amharic_gpt2_tokenizer\")\n",
        "import os\n",
        "dataset_path = \"/content/drive/MyDrive/gpt-2_model/normalized_poems.txt\"\n",
        "if not os.path.exists(dataset_path):\n",
        "    raise FileNotFoundError(f\"The file {dataset_path} does not exist. Please upload it to Colab.\")\n",
        "\n",
        "dataset = load_dataset(\n",
        "    \"text\",\n",
        "    data_files={\"train\": dataset_path},\n",
        "    cache_dir=None  # Disable caching to avoid filesystem issues\n",
        ")\n",
        "\n",
        "# Tokenize dataset with labels\n",
        "def tokenize_function(examples):\n",
        "    encodings = tokenizer(\n",
        "        examples[\"text\"],\n",
        "        truncation=True,\n",
        "        max_length=512,\n",
        "        padding=\"max_length\",\n",
        "        return_tensors=\"pt\"\n",
        "    )\n",
        "\n",
        "    encodings[\"labels\"] = encodings[\"input_ids\"].clone()\n",
        "    encodings.pop(\"token_type_ids\", None)\n",
        "    return encodings\n",
        "tokenized_dataset = dataset.map(tokenize_function, batched=True, remove_columns=[\"text\"])"
      ],
      "metadata": {
        "colab": {
          "base_uri": "https://localhost:8080/",
          "height": 49,
          "referenced_widgets": [
            "8528e0a3bbd14cf08ae7c2745040b793",
            "fc2c26bc0b574f0c93018cb00e900489",
            "4991e3568bfb4799b3dd5255151ad73e",
            "ab9f1c62610e4ffd9acc6b3bf39fda3d",
            "f7221de986bf4c43af2ab516686c725f",
            "fbf7d1deae06481b804f083fec5792e3",
            "35fcdeb16b824ffba6e9e455c93249a9",
            "e373f6d51efc47bea8e394f215bce25c",
            "b749f511176b454396ae9e41d8a19781",
            "0d5090d8a11a4bf1b06529b0ec116f37",
            "b2c6f3eb9b6848e9813c24f432ff158c"
          ]
        },
        "id": "oxBBoj9oB3ea",
        "outputId": "5c1e1dcb-48aa-431a-bd2c-f6a9eb58ab6d"
      },
      "execution_count": 18,
      "outputs": [
        {
          "output_type": "display_data",
          "data": {
            "text/plain": [
              "Map:   0%|          | 0/6077 [00:00<?, ? examples/s]"
            ],
            "application/vnd.jupyter.widget-view+json": {
              "version_major": 2,
              "version_minor": 0,
              "model_id": "8528e0a3bbd14cf08ae7c2745040b793"
            }
          },
          "metadata": {}
        }
      ]
    },
    {
      "cell_type": "code",
      "source": [
        "# Data collator for dynamic padding\n",
        "from transformers import DataCollatorForLanguageModeling\n",
        "data_collator = DataCollatorForLanguageModeling(\n",
        "    tokenizer=tokenizer,\n",
        "    mlm=False  # Causal language modeling, not masked\n",
        ")"
      ],
      "metadata": {
        "id": "tVvaTLGUIbZ_"
      },
      "execution_count": 21,
      "outputs": []
    },
    {
      "cell_type": "code",
      "source": [
        "print(tokenized_dataset[\"train\"][0])"
      ],
      "metadata": {
        "colab": {
          "base_uri": "https://localhost:8080/"
        },
        "id": "ayi1FTQ5C3bX",
        "outputId": "7a41ee00-d66d-4a3a-a7fd-76d00199d24e"
      },
      "execution_count": 22,
      "outputs": [
        {
          "output_type": "stream",
          "name": "stdout",
          "text": [
            "{'input_ids': [4471, 1775, 6144, 1683, 2717, 1647, 7211, 7211, 7211, 7211, 7211, 7211, 7211, 7211, 7211, 7211, 7211, 7211, 7211, 7211, 7211, 7211, 7211, 7211, 7211, 7211, 7211, 7211, 7211, 7211, 7211, 7211, 7211, 7211, 7211, 7211, 7211, 7211, 7211, 7211, 7211, 7211, 7211, 7211, 7211, 7211, 7211, 7211, 7211, 7211, 7211, 7211, 7211, 7211, 7211, 7211, 7211, 7211, 7211, 7211, 7211, 7211, 7211, 7211, 7211, 7211, 7211, 7211, 7211, 7211, 7211, 7211, 7211, 7211, 7211, 7211, 7211, 7211, 7211, 7211, 7211, 7211, 7211, 7211, 7211, 7211, 7211, 7211, 7211, 7211, 7211, 7211, 7211, 7211, 7211, 7211, 7211, 7211, 7211, 7211, 7211, 7211, 7211, 7211, 7211, 7211, 7211, 7211, 7211, 7211, 7211, 7211, 7211, 7211, 7211, 7211, 7211, 7211, 7211, 7211, 7211, 7211, 7211, 7211, 7211, 7211, 7211, 7211, 7211, 7211, 7211, 7211, 7211, 7211, 7211, 7211, 7211, 7211, 7211, 7211, 7211, 7211, 7211, 7211, 7211, 7211, 7211, 7211, 7211, 7211, 7211, 7211, 7211, 7211, 7211, 7211, 7211, 7211, 7211, 7211, 7211, 7211, 7211, 7211, 7211, 7211, 7211, 7211, 7211, 7211, 7211, 7211, 7211, 7211, 7211, 7211, 7211, 7211, 7211, 7211, 7211, 7211, 7211, 7211, 7211, 7211, 7211, 7211, 7211, 7211, 7211, 7211, 7211, 7211, 7211, 7211, 7211, 7211, 7211, 7211, 7211, 7211, 7211, 7211, 7211, 7211, 7211, 7211, 7211, 7211, 7211, 7211, 7211, 7211, 7211, 7211, 7211, 7211, 7211, 7211, 7211, 7211, 7211, 7211, 7211, 7211, 7211, 7211, 7211, 7211, 7211, 7211, 7211, 7211, 7211, 7211, 7211, 7211, 7211, 7211, 7211, 7211, 7211, 7211, 7211, 7211, 7211, 7211, 7211, 7211, 7211, 7211, 7211, 7211, 7211, 7211, 7211, 7211, 7211, 7211, 7211, 7211, 7211, 7211, 7211, 7211, 7211, 7211, 7211, 7211, 7211, 7211, 7211, 7211, 7211, 7211, 7211, 7211, 7211, 7211, 7211, 7211, 7211, 7211, 7211, 7211, 7211, 7211, 7211, 7211, 7211, 7211, 7211, 7211, 7211, 7211, 7211, 7211, 7211, 7211, 7211, 7211, 7211, 7211, 7211, 7211, 7211, 7211, 7211, 7211, 7211, 7211, 7211, 7211, 7211, 7211, 7211, 7211, 7211, 7211, 7211, 7211, 7211, 7211, 7211, 7211, 7211, 7211, 7211, 7211, 7211, 7211, 7211, 7211, 7211, 7211, 7211, 7211, 7211, 7211, 7211, 7211, 7211, 7211, 7211, 7211, 7211, 7211, 7211, 7211, 7211, 7211, 7211, 7211, 7211, 7211, 7211, 7211, 7211, 7211, 7211, 7211, 7211, 7211, 7211, 7211, 7211, 7211, 7211, 7211, 7211, 7211, 7211, 7211, 7211, 7211, 7211, 7211, 7211, 7211, 7211, 7211, 7211, 7211, 7211, 7211, 7211, 7211, 7211, 7211, 7211, 7211, 7211, 7211, 7211, 7211, 7211, 7211, 7211, 7211, 7211, 7211, 7211, 7211, 7211, 7211, 7211, 7211, 7211, 7211, 7211, 7211, 7211, 7211, 7211, 7211, 7211, 7211, 7211, 7211, 7211, 7211, 7211, 7211, 7211, 7211, 7211, 7211, 7211, 7211, 7211, 7211, 7211, 7211, 7211, 7211, 7211, 7211, 7211, 7211, 7211, 7211, 7211, 7211, 7211, 7211, 7211, 7211, 7211, 7211, 7211, 7211, 7211, 7211, 7211, 7211, 7211, 7211, 7211, 7211, 7211, 7211, 7211, 7211, 7211, 7211, 7211, 7211, 7211, 7211, 7211, 7211, 7211, 7211, 7211, 7211, 7211, 7211, 7211, 7211, 7211, 7211, 7211, 7211, 7211, 7211, 7211, 7211, 7211, 7211, 7211, 7211, 7211, 7211, 7211, 7211, 7211, 7211, 7211, 7211, 7211, 7211, 7211, 7211, 7211, 7211, 7211, 7211, 7211, 7211, 7211, 7211], 'attention_mask': [1, 1, 1, 1, 1, 1, 0, 0, 0, 0, 0, 0, 0, 0, 0, 0, 0, 0, 0, 0, 0, 0, 0, 0, 0, 0, 0, 0, 0, 0, 0, 0, 0, 0, 0, 0, 0, 0, 0, 0, 0, 0, 0, 0, 0, 0, 0, 0, 0, 0, 0, 0, 0, 0, 0, 0, 0, 0, 0, 0, 0, 0, 0, 0, 0, 0, 0, 0, 0, 0, 0, 0, 0, 0, 0, 0, 0, 0, 0, 0, 0, 0, 0, 0, 0, 0, 0, 0, 0, 0, 0, 0, 0, 0, 0, 0, 0, 0, 0, 0, 0, 0, 0, 0, 0, 0, 0, 0, 0, 0, 0, 0, 0, 0, 0, 0, 0, 0, 0, 0, 0, 0, 0, 0, 0, 0, 0, 0, 0, 0, 0, 0, 0, 0, 0, 0, 0, 0, 0, 0, 0, 0, 0, 0, 0, 0, 0, 0, 0, 0, 0, 0, 0, 0, 0, 0, 0, 0, 0, 0, 0, 0, 0, 0, 0, 0, 0, 0, 0, 0, 0, 0, 0, 0, 0, 0, 0, 0, 0, 0, 0, 0, 0, 0, 0, 0, 0, 0, 0, 0, 0, 0, 0, 0, 0, 0, 0, 0, 0, 0, 0, 0, 0, 0, 0, 0, 0, 0, 0, 0, 0, 0, 0, 0, 0, 0, 0, 0, 0, 0, 0, 0, 0, 0, 0, 0, 0, 0, 0, 0, 0, 0, 0, 0, 0, 0, 0, 0, 0, 0, 0, 0, 0, 0, 0, 0, 0, 0, 0, 0, 0, 0, 0, 0, 0, 0, 0, 0, 0, 0, 0, 0, 0, 0, 0, 0, 0, 0, 0, 0, 0, 0, 0, 0, 0, 0, 0, 0, 0, 0, 0, 0, 0, 0, 0, 0, 0, 0, 0, 0, 0, 0, 0, 0, 0, 0, 0, 0, 0, 0, 0, 0, 0, 0, 0, 0, 0, 0, 0, 0, 0, 0, 0, 0, 0, 0, 0, 0, 0, 0, 0, 0, 0, 0, 0, 0, 0, 0, 0, 0, 0, 0, 0, 0, 0, 0, 0, 0, 0, 0, 0, 0, 0, 0, 0, 0, 0, 0, 0, 0, 0, 0, 0, 0, 0, 0, 0, 0, 0, 0, 0, 0, 0, 0, 0, 0, 0, 0, 0, 0, 0, 0, 0, 0, 0, 0, 0, 0, 0, 0, 0, 0, 0, 0, 0, 0, 0, 0, 0, 0, 0, 0, 0, 0, 0, 0, 0, 0, 0, 0, 0, 0, 0, 0, 0, 0, 0, 0, 0, 0, 0, 0, 0, 0, 0, 0, 0, 0, 0, 0, 0, 0, 0, 0, 0, 0, 0, 0, 0, 0, 0, 0, 0, 0, 0, 0, 0, 0, 0, 0, 0, 0, 0, 0, 0, 0, 0, 0, 0, 0, 0, 0, 0, 0, 0, 0, 0, 0, 0, 0, 0, 0, 0, 0, 0, 0, 0, 0, 0, 0, 0, 0, 0, 0, 0, 0, 0, 0, 0, 0, 0, 0, 0, 0, 0, 0, 0, 0, 0, 0, 0, 0, 0, 0, 0, 0, 0, 0, 0, 0, 0, 0, 0, 0, 0, 0, 0, 0, 0, 0, 0, 0], 'labels': [4471, 1775, 6144, 1683, 2717, 1647, 7211, 7211, 7211, 7211, 7211, 7211, 7211, 7211, 7211, 7211, 7211, 7211, 7211, 7211, 7211, 7211, 7211, 7211, 7211, 7211, 7211, 7211, 7211, 7211, 7211, 7211, 7211, 7211, 7211, 7211, 7211, 7211, 7211, 7211, 7211, 7211, 7211, 7211, 7211, 7211, 7211, 7211, 7211, 7211, 7211, 7211, 7211, 7211, 7211, 7211, 7211, 7211, 7211, 7211, 7211, 7211, 7211, 7211, 7211, 7211, 7211, 7211, 7211, 7211, 7211, 7211, 7211, 7211, 7211, 7211, 7211, 7211, 7211, 7211, 7211, 7211, 7211, 7211, 7211, 7211, 7211, 7211, 7211, 7211, 7211, 7211, 7211, 7211, 7211, 7211, 7211, 7211, 7211, 7211, 7211, 7211, 7211, 7211, 7211, 7211, 7211, 7211, 7211, 7211, 7211, 7211, 7211, 7211, 7211, 7211, 7211, 7211, 7211, 7211, 7211, 7211, 7211, 7211, 7211, 7211, 7211, 7211, 7211, 7211, 7211, 7211, 7211, 7211, 7211, 7211, 7211, 7211, 7211, 7211, 7211, 7211, 7211, 7211, 7211, 7211, 7211, 7211, 7211, 7211, 7211, 7211, 7211, 7211, 7211, 7211, 7211, 7211, 7211, 7211, 7211, 7211, 7211, 7211, 7211, 7211, 7211, 7211, 7211, 7211, 7211, 7211, 7211, 7211, 7211, 7211, 7211, 7211, 7211, 7211, 7211, 7211, 7211, 7211, 7211, 7211, 7211, 7211, 7211, 7211, 7211, 7211, 7211, 7211, 7211, 7211, 7211, 7211, 7211, 7211, 7211, 7211, 7211, 7211, 7211, 7211, 7211, 7211, 7211, 7211, 7211, 7211, 7211, 7211, 7211, 7211, 7211, 7211, 7211, 7211, 7211, 7211, 7211, 7211, 7211, 7211, 7211, 7211, 7211, 7211, 7211, 7211, 7211, 7211, 7211, 7211, 7211, 7211, 7211, 7211, 7211, 7211, 7211, 7211, 7211, 7211, 7211, 7211, 7211, 7211, 7211, 7211, 7211, 7211, 7211, 7211, 7211, 7211, 7211, 7211, 7211, 7211, 7211, 7211, 7211, 7211, 7211, 7211, 7211, 7211, 7211, 7211, 7211, 7211, 7211, 7211, 7211, 7211, 7211, 7211, 7211, 7211, 7211, 7211, 7211, 7211, 7211, 7211, 7211, 7211, 7211, 7211, 7211, 7211, 7211, 7211, 7211, 7211, 7211, 7211, 7211, 7211, 7211, 7211, 7211, 7211, 7211, 7211, 7211, 7211, 7211, 7211, 7211, 7211, 7211, 7211, 7211, 7211, 7211, 7211, 7211, 7211, 7211, 7211, 7211, 7211, 7211, 7211, 7211, 7211, 7211, 7211, 7211, 7211, 7211, 7211, 7211, 7211, 7211, 7211, 7211, 7211, 7211, 7211, 7211, 7211, 7211, 7211, 7211, 7211, 7211, 7211, 7211, 7211, 7211, 7211, 7211, 7211, 7211, 7211, 7211, 7211, 7211, 7211, 7211, 7211, 7211, 7211, 7211, 7211, 7211, 7211, 7211, 7211, 7211, 7211, 7211, 7211, 7211, 7211, 7211, 7211, 7211, 7211, 7211, 7211, 7211, 7211, 7211, 7211, 7211, 7211, 7211, 7211, 7211, 7211, 7211, 7211, 7211, 7211, 7211, 7211, 7211, 7211, 7211, 7211, 7211, 7211, 7211, 7211, 7211, 7211, 7211, 7211, 7211, 7211, 7211, 7211, 7211, 7211, 7211, 7211, 7211, 7211, 7211, 7211, 7211, 7211, 7211, 7211, 7211, 7211, 7211, 7211, 7211, 7211, 7211, 7211, 7211, 7211, 7211, 7211, 7211, 7211, 7211, 7211, 7211, 7211, 7211, 7211, 7211, 7211, 7211, 7211, 7211, 7211, 7211, 7211, 7211, 7211, 7211, 7211, 7211, 7211, 7211, 7211, 7211, 7211, 7211, 7211, 7211, 7211, 7211, 7211, 7211, 7211, 7211, 7211, 7211, 7211, 7211, 7211, 7211, 7211, 7211, 7211, 7211, 7211, 7211, 7211, 7211, 7211, 7211, 7211, 7211, 7211, 7211, 7211, 7211, 7211, 7211, 7211, 7211, 7211, 7211, 7211, 7211, 7211, 7211, 7211, 7211, 7211]}\n"
          ]
        }
      ]
    },
    {
      "cell_type": "code",
      "source": [
        "# Load model\n",
        "model = GPT2LMHeadModel.from_pretrained(\"gpt2\")\n",
        "model.resize_token_embeddings(len(tokenizer))"
      ],
      "metadata": {
        "colab": {
          "base_uri": "https://localhost:8080/"
        },
        "id": "2oU-4CltJKjv",
        "outputId": "7d4b414c-8391-46e4-b418-7564d60e433d"
      },
      "execution_count": 23,
      "outputs": [
        {
          "output_type": "execute_result",
          "data": {
            "text/plain": [
              "Embedding(7212, 768)"
            ]
          },
          "metadata": {},
          "execution_count": 23
        }
      ]
    },
    {
      "cell_type": "code",
      "source": [
        "# Load the model and tokenizer\n",
        "model = GPT2LMHeadModel.from_pretrained(\"gpt2\")\n",
        "model.resize_token_embeddings(len(tokenizer))\n",
        "tokenizer = PreTrainedTokenizerFast.from_pretrained(\"/content/drive/MyDrive/gpt-2_model/amharic_gpt2_tokenizer\")\n",
        "\n",
        "# Configure LoRA\n",
        "lora_config = LoraConfig(\n",
        "    r=16,\n",
        "    lora_alpha=16,\n",
        "    target_modules=[\"c_attn\", \"c_proj\"],\n",
        "    lora_dropout=0.1,\n",
        "    bias=\"none\",\n",
        "    task_type=\"CAUSAL_LM\"\n",
        ")\n",
        "model = get_peft_model(model, lora_config)"
      ],
      "metadata": {
        "colab": {
          "base_uri": "https://localhost:8080/"
        },
        "id": "DkOM1BFDDir2",
        "outputId": "026f6405-e0a5-4478-e08d-94a4dd3b3774"
      },
      "execution_count": 24,
      "outputs": [
        {
          "output_type": "stream",
          "name": "stderr",
          "text": [
            "/usr/local/lib/python3.11/dist-packages/peft/tuners/lora/layer.py:1768: UserWarning: fan_in_fan_out is set to False but the target module is `Conv1D`. Setting fan_in_fan_out to True.\n",
            "  warnings.warn(\n"
          ]
        }
      ]
    },
    {
      "cell_type": "code",
      "source": [
        "# Load your dataset\n",
        "dataset = load_dataset(\"text\", data_files={\"train\": \"/content/drive/MyDrive/gpt-2_model/normalized_poems.txt\"})"
      ],
      "metadata": {
        "id": "QdTXV6x2EAoj"
      },
      "execution_count": 10,
      "outputs": []
    },
    {
      "cell_type": "code",
      "source": [
        "# Tokenize the dataset\n",
        "def tokenize_function(examples):\n",
        "    return tokenizer(examples[\"text\"], truncation=True, max_length=512, padding=\"max_length\")\n",
        "\n",
        "tokenized_dataset = dataset.map(tokenize_function, batched=True)"
      ],
      "metadata": {
        "colab": {
          "base_uri": "https://localhost:8080/",
          "height": 49,
          "referenced_widgets": [
            "1789e2e8fb3840bc87cdbfd6fc5737d1",
            "198e38f97ac5418bb55473e74dcb5a85",
            "466b7cd6567144b4adffc5a9a0d9105c",
            "7f36a9e00750401ebdf345f5aeec223b",
            "38c55592d4734674ad7892da99870cc0",
            "845c6ba2957a42ccab29af646fcb4437",
            "98a0ca604c994a3598301575fbe0b335",
            "73d8df9695f5412591757fde09f4797e",
            "1af171b9dcdc4e46a46420ef7df2e520",
            "606bcbd52bb74fc3938067214467dbaa",
            "88053cbbbb6e4e2cb548f002ae5d6073"
          ]
        },
        "id": "Kuc07YeSEMKl",
        "outputId": "c273dea5-3cd5-4a2a-a04f-6ec59547c3d7"
      },
      "execution_count": 11,
      "outputs": [
        {
          "output_type": "display_data",
          "data": {
            "text/plain": [
              "Map:   0%|          | 0/6077 [00:00<?, ? examples/s]"
            ],
            "application/vnd.jupyter.widget-view+json": {
              "version_major": 2,
              "version_minor": 0,
              "model_id": "1789e2e8fb3840bc87cdbfd6fc5737d1"
            }
          },
          "metadata": {}
        }
      ]
    },
    {
      "cell_type": "code",
      "source": [
        "# Training arguments\n",
        "training_args = TrainingArguments(\n",
        "    output_dir=\"/content/drive/MyDrive/gpt-2_model/output/gpt2-amharic-lora\",\n",
        "    run_name=\"amharic-poetry-finetune-v1\",\n",
        "    per_device_train_batch_size=4,\n",
        "    num_train_epochs=3,\n",
        "    learning_rate=2e-4,\n",
        "    save_steps=500,\n",
        "    save_total_limit=2,\n",
        "    logging_dir=\"./logs\",\n",
        "    report_to=\"none\",  # Set to \"wandb\" if using W&B\n",
        ")"
      ],
      "metadata": {
        "id": "RfecWbRkEUcM"
      },
      "execution_count": 25,
      "outputs": []
    },
    {
      "cell_type": "code",
      "source": [],
      "metadata": {
        "id": "JdCpa3PeJjAQ"
      },
      "execution_count": null,
      "outputs": []
    },
    {
      "cell_type": "code",
      "source": [
        "trainer = Trainer(\n",
        "    model=model,\n",
        "    args=training_args,\n",
        "    train_dataset=tokenized_dataset[\"train\"],\n",
        "    data_collator=data_collator,  # Handles dynamic padding\n",
        ")"
      ],
      "metadata": {
        "colab": {
          "base_uri": "https://localhost:8080/"
        },
        "id": "Gvm_a8A3EyK-",
        "outputId": "1805ec1c-c688-48bf-d2f7-cd8bde2c08c2"
      },
      "execution_count": 26,
      "outputs": [
        {
          "output_type": "stream",
          "name": "stderr",
          "text": [
            "No label_names provided for model class `PeftModelForCausalLM`. Since `PeftModel` hides base models input arguments, if label_names is not given, label_names can't be set automatically within `Trainer`. Note that empty label_names list will be used instead.\n"
          ]
        }
      ]
    },
    {
      "cell_type": "code",
      "source": [
        "# Verify tokenized dataset\n",
        "print(\"Sample tokenized data:\", tokenized_dataset[\"train\"][0])"
      ],
      "metadata": {
        "colab": {
          "base_uri": "https://localhost:8080/"
        },
        "id": "ZG4LS9SrJpeW",
        "outputId": "34681381-6e48-423e-d6d8-c56bf5c5d302"
      },
      "execution_count": 27,
      "outputs": [
        {
          "output_type": "stream",
          "name": "stdout",
          "text": [
            "Sample tokenized data: {'input_ids': [4471, 1775, 6144, 1683, 2717, 1647, 7211, 7211, 7211, 7211, 7211, 7211, 7211, 7211, 7211, 7211, 7211, 7211, 7211, 7211, 7211, 7211, 7211, 7211, 7211, 7211, 7211, 7211, 7211, 7211, 7211, 7211, 7211, 7211, 7211, 7211, 7211, 7211, 7211, 7211, 7211, 7211, 7211, 7211, 7211, 7211, 7211, 7211, 7211, 7211, 7211, 7211, 7211, 7211, 7211, 7211, 7211, 7211, 7211, 7211, 7211, 7211, 7211, 7211, 7211, 7211, 7211, 7211, 7211, 7211, 7211, 7211, 7211, 7211, 7211, 7211, 7211, 7211, 7211, 7211, 7211, 7211, 7211, 7211, 7211, 7211, 7211, 7211, 7211, 7211, 7211, 7211, 7211, 7211, 7211, 7211, 7211, 7211, 7211, 7211, 7211, 7211, 7211, 7211, 7211, 7211, 7211, 7211, 7211, 7211, 7211, 7211, 7211, 7211, 7211, 7211, 7211, 7211, 7211, 7211, 7211, 7211, 7211, 7211, 7211, 7211, 7211, 7211, 7211, 7211, 7211, 7211, 7211, 7211, 7211, 7211, 7211, 7211, 7211, 7211, 7211, 7211, 7211, 7211, 7211, 7211, 7211, 7211, 7211, 7211, 7211, 7211, 7211, 7211, 7211, 7211, 7211, 7211, 7211, 7211, 7211, 7211, 7211, 7211, 7211, 7211, 7211, 7211, 7211, 7211, 7211, 7211, 7211, 7211, 7211, 7211, 7211, 7211, 7211, 7211, 7211, 7211, 7211, 7211, 7211, 7211, 7211, 7211, 7211, 7211, 7211, 7211, 7211, 7211, 7211, 7211, 7211, 7211, 7211, 7211, 7211, 7211, 7211, 7211, 7211, 7211, 7211, 7211, 7211, 7211, 7211, 7211, 7211, 7211, 7211, 7211, 7211, 7211, 7211, 7211, 7211, 7211, 7211, 7211, 7211, 7211, 7211, 7211, 7211, 7211, 7211, 7211, 7211, 7211, 7211, 7211, 7211, 7211, 7211, 7211, 7211, 7211, 7211, 7211, 7211, 7211, 7211, 7211, 7211, 7211, 7211, 7211, 7211, 7211, 7211, 7211, 7211, 7211, 7211, 7211, 7211, 7211, 7211, 7211, 7211, 7211, 7211, 7211, 7211, 7211, 7211, 7211, 7211, 7211, 7211, 7211, 7211, 7211, 7211, 7211, 7211, 7211, 7211, 7211, 7211, 7211, 7211, 7211, 7211, 7211, 7211, 7211, 7211, 7211, 7211, 7211, 7211, 7211, 7211, 7211, 7211, 7211, 7211, 7211, 7211, 7211, 7211, 7211, 7211, 7211, 7211, 7211, 7211, 7211, 7211, 7211, 7211, 7211, 7211, 7211, 7211, 7211, 7211, 7211, 7211, 7211, 7211, 7211, 7211, 7211, 7211, 7211, 7211, 7211, 7211, 7211, 7211, 7211, 7211, 7211, 7211, 7211, 7211, 7211, 7211, 7211, 7211, 7211, 7211, 7211, 7211, 7211, 7211, 7211, 7211, 7211, 7211, 7211, 7211, 7211, 7211, 7211, 7211, 7211, 7211, 7211, 7211, 7211, 7211, 7211, 7211, 7211, 7211, 7211, 7211, 7211, 7211, 7211, 7211, 7211, 7211, 7211, 7211, 7211, 7211, 7211, 7211, 7211, 7211, 7211, 7211, 7211, 7211, 7211, 7211, 7211, 7211, 7211, 7211, 7211, 7211, 7211, 7211, 7211, 7211, 7211, 7211, 7211, 7211, 7211, 7211, 7211, 7211, 7211, 7211, 7211, 7211, 7211, 7211, 7211, 7211, 7211, 7211, 7211, 7211, 7211, 7211, 7211, 7211, 7211, 7211, 7211, 7211, 7211, 7211, 7211, 7211, 7211, 7211, 7211, 7211, 7211, 7211, 7211, 7211, 7211, 7211, 7211, 7211, 7211, 7211, 7211, 7211, 7211, 7211, 7211, 7211, 7211, 7211, 7211, 7211, 7211, 7211, 7211, 7211, 7211, 7211, 7211, 7211, 7211, 7211, 7211, 7211, 7211, 7211, 7211, 7211, 7211, 7211, 7211, 7211, 7211, 7211, 7211, 7211, 7211, 7211, 7211, 7211, 7211, 7211, 7211, 7211, 7211, 7211, 7211, 7211, 7211, 7211, 7211, 7211, 7211, 7211, 7211, 7211, 7211, 7211, 7211, 7211, 7211, 7211, 7211], 'attention_mask': [1, 1, 1, 1, 1, 1, 0, 0, 0, 0, 0, 0, 0, 0, 0, 0, 0, 0, 0, 0, 0, 0, 0, 0, 0, 0, 0, 0, 0, 0, 0, 0, 0, 0, 0, 0, 0, 0, 0, 0, 0, 0, 0, 0, 0, 0, 0, 0, 0, 0, 0, 0, 0, 0, 0, 0, 0, 0, 0, 0, 0, 0, 0, 0, 0, 0, 0, 0, 0, 0, 0, 0, 0, 0, 0, 0, 0, 0, 0, 0, 0, 0, 0, 0, 0, 0, 0, 0, 0, 0, 0, 0, 0, 0, 0, 0, 0, 0, 0, 0, 0, 0, 0, 0, 0, 0, 0, 0, 0, 0, 0, 0, 0, 0, 0, 0, 0, 0, 0, 0, 0, 0, 0, 0, 0, 0, 0, 0, 0, 0, 0, 0, 0, 0, 0, 0, 0, 0, 0, 0, 0, 0, 0, 0, 0, 0, 0, 0, 0, 0, 0, 0, 0, 0, 0, 0, 0, 0, 0, 0, 0, 0, 0, 0, 0, 0, 0, 0, 0, 0, 0, 0, 0, 0, 0, 0, 0, 0, 0, 0, 0, 0, 0, 0, 0, 0, 0, 0, 0, 0, 0, 0, 0, 0, 0, 0, 0, 0, 0, 0, 0, 0, 0, 0, 0, 0, 0, 0, 0, 0, 0, 0, 0, 0, 0, 0, 0, 0, 0, 0, 0, 0, 0, 0, 0, 0, 0, 0, 0, 0, 0, 0, 0, 0, 0, 0, 0, 0, 0, 0, 0, 0, 0, 0, 0, 0, 0, 0, 0, 0, 0, 0, 0, 0, 0, 0, 0, 0, 0, 0, 0, 0, 0, 0, 0, 0, 0, 0, 0, 0, 0, 0, 0, 0, 0, 0, 0, 0, 0, 0, 0, 0, 0, 0, 0, 0, 0, 0, 0, 0, 0, 0, 0, 0, 0, 0, 0, 0, 0, 0, 0, 0, 0, 0, 0, 0, 0, 0, 0, 0, 0, 0, 0, 0, 0, 0, 0, 0, 0, 0, 0, 0, 0, 0, 0, 0, 0, 0, 0, 0, 0, 0, 0, 0, 0, 0, 0, 0, 0, 0, 0, 0, 0, 0, 0, 0, 0, 0, 0, 0, 0, 0, 0, 0, 0, 0, 0, 0, 0, 0, 0, 0, 0, 0, 0, 0, 0, 0, 0, 0, 0, 0, 0, 0, 0, 0, 0, 0, 0, 0, 0, 0, 0, 0, 0, 0, 0, 0, 0, 0, 0, 0, 0, 0, 0, 0, 0, 0, 0, 0, 0, 0, 0, 0, 0, 0, 0, 0, 0, 0, 0, 0, 0, 0, 0, 0, 0, 0, 0, 0, 0, 0, 0, 0, 0, 0, 0, 0, 0, 0, 0, 0, 0, 0, 0, 0, 0, 0, 0, 0, 0, 0, 0, 0, 0, 0, 0, 0, 0, 0, 0, 0, 0, 0, 0, 0, 0, 0, 0, 0, 0, 0, 0, 0, 0, 0, 0, 0, 0, 0, 0, 0, 0, 0, 0, 0, 0, 0, 0, 0, 0, 0, 0, 0, 0, 0, 0, 0, 0, 0, 0, 0, 0, 0, 0, 0, 0, 0, 0, 0, 0, 0, 0, 0, 0, 0, 0, 0, 0, 0, 0, 0], 'labels': [4471, 1775, 6144, 1683, 2717, 1647, 7211, 7211, 7211, 7211, 7211, 7211, 7211, 7211, 7211, 7211, 7211, 7211, 7211, 7211, 7211, 7211, 7211, 7211, 7211, 7211, 7211, 7211, 7211, 7211, 7211, 7211, 7211, 7211, 7211, 7211, 7211, 7211, 7211, 7211, 7211, 7211, 7211, 7211, 7211, 7211, 7211, 7211, 7211, 7211, 7211, 7211, 7211, 7211, 7211, 7211, 7211, 7211, 7211, 7211, 7211, 7211, 7211, 7211, 7211, 7211, 7211, 7211, 7211, 7211, 7211, 7211, 7211, 7211, 7211, 7211, 7211, 7211, 7211, 7211, 7211, 7211, 7211, 7211, 7211, 7211, 7211, 7211, 7211, 7211, 7211, 7211, 7211, 7211, 7211, 7211, 7211, 7211, 7211, 7211, 7211, 7211, 7211, 7211, 7211, 7211, 7211, 7211, 7211, 7211, 7211, 7211, 7211, 7211, 7211, 7211, 7211, 7211, 7211, 7211, 7211, 7211, 7211, 7211, 7211, 7211, 7211, 7211, 7211, 7211, 7211, 7211, 7211, 7211, 7211, 7211, 7211, 7211, 7211, 7211, 7211, 7211, 7211, 7211, 7211, 7211, 7211, 7211, 7211, 7211, 7211, 7211, 7211, 7211, 7211, 7211, 7211, 7211, 7211, 7211, 7211, 7211, 7211, 7211, 7211, 7211, 7211, 7211, 7211, 7211, 7211, 7211, 7211, 7211, 7211, 7211, 7211, 7211, 7211, 7211, 7211, 7211, 7211, 7211, 7211, 7211, 7211, 7211, 7211, 7211, 7211, 7211, 7211, 7211, 7211, 7211, 7211, 7211, 7211, 7211, 7211, 7211, 7211, 7211, 7211, 7211, 7211, 7211, 7211, 7211, 7211, 7211, 7211, 7211, 7211, 7211, 7211, 7211, 7211, 7211, 7211, 7211, 7211, 7211, 7211, 7211, 7211, 7211, 7211, 7211, 7211, 7211, 7211, 7211, 7211, 7211, 7211, 7211, 7211, 7211, 7211, 7211, 7211, 7211, 7211, 7211, 7211, 7211, 7211, 7211, 7211, 7211, 7211, 7211, 7211, 7211, 7211, 7211, 7211, 7211, 7211, 7211, 7211, 7211, 7211, 7211, 7211, 7211, 7211, 7211, 7211, 7211, 7211, 7211, 7211, 7211, 7211, 7211, 7211, 7211, 7211, 7211, 7211, 7211, 7211, 7211, 7211, 7211, 7211, 7211, 7211, 7211, 7211, 7211, 7211, 7211, 7211, 7211, 7211, 7211, 7211, 7211, 7211, 7211, 7211, 7211, 7211, 7211, 7211, 7211, 7211, 7211, 7211, 7211, 7211, 7211, 7211, 7211, 7211, 7211, 7211, 7211, 7211, 7211, 7211, 7211, 7211, 7211, 7211, 7211, 7211, 7211, 7211, 7211, 7211, 7211, 7211, 7211, 7211, 7211, 7211, 7211, 7211, 7211, 7211, 7211, 7211, 7211, 7211, 7211, 7211, 7211, 7211, 7211, 7211, 7211, 7211, 7211, 7211, 7211, 7211, 7211, 7211, 7211, 7211, 7211, 7211, 7211, 7211, 7211, 7211, 7211, 7211, 7211, 7211, 7211, 7211, 7211, 7211, 7211, 7211, 7211, 7211, 7211, 7211, 7211, 7211, 7211, 7211, 7211, 7211, 7211, 7211, 7211, 7211, 7211, 7211, 7211, 7211, 7211, 7211, 7211, 7211, 7211, 7211, 7211, 7211, 7211, 7211, 7211, 7211, 7211, 7211, 7211, 7211, 7211, 7211, 7211, 7211, 7211, 7211, 7211, 7211, 7211, 7211, 7211, 7211, 7211, 7211, 7211, 7211, 7211, 7211, 7211, 7211, 7211, 7211, 7211, 7211, 7211, 7211, 7211, 7211, 7211, 7211, 7211, 7211, 7211, 7211, 7211, 7211, 7211, 7211, 7211, 7211, 7211, 7211, 7211, 7211, 7211, 7211, 7211, 7211, 7211, 7211, 7211, 7211, 7211, 7211, 7211, 7211, 7211, 7211, 7211, 7211, 7211, 7211, 7211, 7211, 7211, 7211, 7211, 7211, 7211, 7211, 7211, 7211, 7211, 7211, 7211, 7211, 7211, 7211, 7211, 7211, 7211, 7211, 7211, 7211, 7211, 7211, 7211, 7211, 7211, 7211, 7211, 7211, 7211, 7211, 7211, 7211, 7211]}\n"
          ]
        }
      ]
    },
    {
      "cell_type": "code",
      "source": [
        "# Fine-tune the model\n",
        "trainer.train()"
      ],
      "metadata": {
        "colab": {
          "base_uri": "https://localhost:8080/",
          "height": 795
        },
        "id": "wg2MATBZE2m3",
        "outputId": "1d0bf8a3-2236-43ef-e84a-3391fb195dd8"
      },
      "execution_count": 28,
      "outputs": [
        {
          "output_type": "stream",
          "name": "stderr",
          "text": [
            "`loss_type=None` was set in the config but it is unrecognised.Using the default loss: `ForCausalLMLoss`.\n"
          ]
        },
        {
          "output_type": "display_data",
          "data": {
            "text/plain": [
              "<IPython.core.display.HTML object>"
            ],
            "text/html": [
              "\n",
              "    <div>\n",
              "      \n",
              "      <progress value='4560' max='4560' style='width:300px; height:20px; vertical-align: middle;'></progress>\n",
              "      [4560/4560 28:30, Epoch 3/3]\n",
              "    </div>\n",
              "    <table border=\"1\" class=\"dataframe\">\n",
              "  <thead>\n",
              " <tr style=\"text-align: left;\">\n",
              "      <th>Step</th>\n",
              "      <th>Training Loss</th>\n",
              "    </tr>\n",
              "  </thead>\n",
              "  <tbody>\n",
              "    <tr>\n",
              "      <td>500</td>\n",
              "      <td>7.098400</td>\n",
              "    </tr>\n",
              "    <tr>\n",
              "      <td>1000</td>\n",
              "      <td>6.918000</td>\n",
              "    </tr>\n",
              "    <tr>\n",
              "      <td>1500</td>\n",
              "      <td>6.906500</td>\n",
              "    </tr>\n",
              "    <tr>\n",
              "      <td>2000</td>\n",
              "      <td>6.861200</td>\n",
              "    </tr>\n",
              "    <tr>\n",
              "      <td>2500</td>\n",
              "      <td>6.836200</td>\n",
              "    </tr>\n",
              "    <tr>\n",
              "      <td>3000</td>\n",
              "      <td>6.863000</td>\n",
              "    </tr>\n",
              "    <tr>\n",
              "      <td>3500</td>\n",
              "      <td>6.838100</td>\n",
              "    </tr>\n",
              "    <tr>\n",
              "      <td>4000</td>\n",
              "      <td>6.840600</td>\n",
              "    </tr>\n",
              "    <tr>\n",
              "      <td>4500</td>\n",
              "      <td>6.829100</td>\n",
              "    </tr>\n",
              "  </tbody>\n",
              "</table><p>"
            ]
          },
          "metadata": {}
        },
        {
          "output_type": "stream",
          "name": "stderr",
          "text": [
            "/usr/local/lib/python3.11/dist-packages/peft/utils/save_and_load.py:250: UserWarning: Setting `save_embedding_layers` to `True` as the embedding layer has been resized during finetuning.\n",
            "  warnings.warn(\n",
            "/usr/local/lib/python3.11/dist-packages/peft/utils/save_and_load.py:250: UserWarning: Setting `save_embedding_layers` to `True` as the embedding layer has been resized during finetuning.\n",
            "  warnings.warn(\n",
            "/usr/local/lib/python3.11/dist-packages/peft/utils/save_and_load.py:250: UserWarning: Setting `save_embedding_layers` to `True` as the embedding layer has been resized during finetuning.\n",
            "  warnings.warn(\n",
            "/usr/local/lib/python3.11/dist-packages/peft/utils/save_and_load.py:250: UserWarning: Setting `save_embedding_layers` to `True` as the embedding layer has been resized during finetuning.\n",
            "  warnings.warn(\n",
            "/usr/local/lib/python3.11/dist-packages/peft/utils/save_and_load.py:250: UserWarning: Setting `save_embedding_layers` to `True` as the embedding layer has been resized during finetuning.\n",
            "  warnings.warn(\n",
            "/usr/local/lib/python3.11/dist-packages/peft/utils/save_and_load.py:250: UserWarning: Setting `save_embedding_layers` to `True` as the embedding layer has been resized during finetuning.\n",
            "  warnings.warn(\n",
            "/usr/local/lib/python3.11/dist-packages/peft/utils/save_and_load.py:250: UserWarning: Setting `save_embedding_layers` to `True` as the embedding layer has been resized during finetuning.\n",
            "  warnings.warn(\n",
            "/usr/local/lib/python3.11/dist-packages/peft/utils/save_and_load.py:250: UserWarning: Setting `save_embedding_layers` to `True` as the embedding layer has been resized during finetuning.\n",
            "  warnings.warn(\n",
            "/usr/local/lib/python3.11/dist-packages/peft/utils/save_and_load.py:250: UserWarning: Setting `save_embedding_layers` to `True` as the embedding layer has been resized during finetuning.\n",
            "  warnings.warn(\n",
            "/usr/local/lib/python3.11/dist-packages/peft/utils/save_and_load.py:250: UserWarning: Setting `save_embedding_layers` to `True` as the embedding layer has been resized during finetuning.\n",
            "  warnings.warn(\n"
          ]
        },
        {
          "output_type": "execute_result",
          "data": {
            "text/plain": [
              "TrainOutput(global_step=4560, training_loss=6.886845130251165, metrics={'train_runtime': 1711.7853, 'train_samples_per_second': 10.65, 'train_steps_per_second': 2.664, 'total_flos': 4854457066586112.0, 'train_loss': 6.886845130251165, 'epoch': 3.0})"
            ]
          },
          "metadata": {},
          "execution_count": 28
        }
      ]
    },
    {
      "cell_type": "code",
      "source": [],
      "metadata": {
        "id": "p639J1BaL8o0"
      },
      "execution_count": null,
      "outputs": []
    },
    {
      "cell_type": "code",
      "source": [
        "model.save_pretrained(\"/content/drive/MyDrive/gpt-2_model/saved_models/gpt2-amharic-lora\")\n",
        "tokenizer.save_pretrained(\"/content/drive/MyDrive/gpt-2_model/saved_models/gpt2-amharic-lora\")"
      ],
      "metadata": {
        "colab": {
          "base_uri": "https://localhost:8080/"
        },
        "id": "83JnxjgKE_q3",
        "outputId": "ddee58a7-631f-40a3-d662-355850d081f3"
      },
      "execution_count": 29,
      "outputs": [
        {
          "output_type": "stream",
          "name": "stderr",
          "text": [
            "/usr/local/lib/python3.11/dist-packages/peft/utils/save_and_load.py:250: UserWarning: Setting `save_embedding_layers` to `True` as the embedding layer has been resized during finetuning.\n",
            "  warnings.warn(\n"
          ]
        },
        {
          "output_type": "execute_result",
          "data": {
            "text/plain": [
              "('/content/drive/MyDrive/gpt-2_model/saved_models/gpt2-amharic-lora/tokenizer_config.json',\n",
              " '/content/drive/MyDrive/gpt-2_model/saved_models/gpt2-amharic-lora/special_tokens_map.json',\n",
              " '/content/drive/MyDrive/gpt-2_model/saved_models/gpt2-amharic-lora/tokenizer.json')"
            ]
          },
          "metadata": {},
          "execution_count": 29
        }
      ]
    },
    {
      "cell_type": "code",
      "source": [
        "# Load your model and tokenizer (if still in memory from training)\n",
        "# Replace with your actual model and tokenizer variables\n",
        "model = model  # Your trained GPT2LMHeadModel with LoRA\n",
        "tokenizer = tokenizer  # Your PreTrainedTokenizerFast\n",
        "\n",
        "# Define save path\n",
        "save_path = \"/content/drive/MyDrive/gpt-2_model/saved_models/gpt2-amharic-lora\"\n",
        "\n",
        "# Create directory if it doesn’t exist\n",
        "os.makedirs(save_path, exist_ok=True)\n",
        "\n",
        "# Save model and tokenizer\n",
        "model.save_pretrained(save_path)\n",
        "tokenizer.save_pretrained(save_path)\n",
        "\n",
        "# Verify saved files\n",
        "!ls /content/drive/MyDrive/gpt-2_model/saved_models/gpt2-amharic-lora"
      ],
      "metadata": {
        "colab": {
          "base_uri": "https://localhost:8080/"
        },
        "id": "nIGhtGjDTD4o",
        "outputId": "7f05d3db-44a0-4c7e-f409-96f5c72a7f31"
      },
      "execution_count": 43,
      "outputs": [
        {
          "output_type": "stream",
          "name": "stdout",
          "text": [
            "adapter_config.json\t   generation_config.json  special_tokens_map.json\n",
            "adapter_model.safetensors  model.safetensors\t   tokenizer_config.json\n",
            "config.json\t\t   README.md\t\t   tokenizer.json\n"
          ]
        }
      ]
    },
    {
      "cell_type": "code",
      "source": [
        "!pip install transformers tokenizers datasets peft wandb safetensors"
      ],
      "metadata": {
        "id": "vZpzehEFTYue"
      },
      "execution_count": null,
      "outputs": []
    },
    {
      "cell_type": "code",
      "source": [
        "from transformers import GPT2LMHeadModel, PreTrainedTokenizerFast, pipeline\n",
        "from peft import PeftModel\n",
        "import torch\n",
        "\n",
        "# Paths to your fine-tuned model and tokenizer\n",
        "model_path = \"/content/drive/MyDrive/gpt-2_model/saved_models/gpt2-amharic-lora\"\n",
        "tokenizer_path = \"/content/drive/MyDrive/gpt-2_model/saved_models/gpt2-amharic-lora\"\n",
        "\n",
        "\n",
        "# Load the tokenizer\n",
        "tokenizer = PreTrainedTokenizerFast.from_pretrained(tokenizer_path)\n",
        "vocab_size = len(tokenizer)\n",
        "print(\"Tokenizer vocab size:\", vocab_size)  # Should be 7212\n",
        "\n",
        "# Load the base GPT-2 model\n",
        "base_model = GPT2LMHeadModel.from_pretrained(\"gpt2\")\n",
        "\n",
        "# Resize embeddings to match tokenizer's vocab size\n",
        "base_model.resize_token_embeddings(vocab_size)\n",
        "\n",
        "# Load the LoRA-adapted model\n",
        "model = PeftModel.from_pretrained(base_model, model_path)\n",
        "\n",
        "# Merge LoRA weights with base model for inference\n",
        "model = model.merge_and_unload()\n",
        "\n",
        "# Move model to GPU if available\n",
        "device = torch.device(\"cuda\" if torch.cuda.is_available() else \"cpu\")\n",
        "model.to(device)\n",
        "\n",
        "# Create pipeline for text generation\n",
        "generator = pipeline(\n",
        "    \"text-generation\",\n",
        "    model=model,\n",
        "    tokenizer=tokenizer,\n",
        "    device=0 if torch.cuda.is_available() else -1  # GPU if available, else CPU\n",
        ")\n",
        "\n",
        "# Generate text\n",
        "prompt = \"አንቺ የፅዮን ልጅ\"\n",
        "output = generator(prompt, max_length=50, num_return_sequences=1)\n",
        "print(output[0][\"generated_text\"])"
      ],
      "metadata": {
        "colab": {
          "base_uri": "https://localhost:8080/"
        },
        "id": "7uolb6kJTYrY",
        "outputId": "36105e40-842f-466b-f9ef-fdb32cf7ce73"
      },
      "execution_count": 44,
      "outputs": [
        {
          "output_type": "stream",
          "name": "stdout",
          "text": [
            "Tokenizer vocab size: 7212\n"
          ]
        },
        {
          "output_type": "stream",
          "name": "stderr",
          "text": [
            "Device set to use cuda:0\n",
            "Truncation was not explicitly activated but `max_length` is provided a specific value, please use `truncation=True` to explicitly truncate examples to max length. Defaulting to 'longest_first' truncation strategy. If you encode pairs of sequences (GLUE-style) with the tokenizer you can select this strategy more precisely by providing a specific strategy to `truncation`.\n"
          ]
        },
        {
          "output_type": "stream",
          "name": "stdout",
          "text": [
            "አንቺ የፅዮን ልጅ ሎ ችን ደ እንደ ነው ን ቸ ን ት አ ል ሽ ሠው ጋ ተ ሡ ሮ አ ብ እንደ ት ዳ ቅ ሽ ሥ ታ ቁ ነው ሠው መ ለ ሮ ሮ ሪ ቆ ሡ ሥ ዳ ኦ ማ ለው ቢ ል ሎ ቺ የ\n"
          ]
        }
      ]
    },
    {
      "cell_type": "code",
      "source": [
        "prompt = \"መዘመር ልጀምር\"\n",
        "output = generator(prompt, max_length=40, num_return_sequences=1)\n",
        "print(output[0][\"generated_text\"])"
      ],
      "metadata": {
        "colab": {
          "base_uri": "https://localhost:8080/"
        },
        "id": "EoI1EOIEUC9o",
        "outputId": "aaa5cd4b-f6d3-46c4-c4c9-cf0e21321f81"
      },
      "execution_count": 45,
      "outputs": [
        {
          "output_type": "stream",
          "name": "stdout",
          "text": [
            "መዘመር ልጀምር በት ኝ ሩ ምን ህ ና ለው ይ ነው ህ ነው ነው ን ላይ ዱ ላይ ቁ ማ ና በት ሊ ታ ህ ል ዱ ሥ በት መ በት ተ ጋ ይ ቢ በ ን ነው\n"
          ]
        }
      ]
    },
    {
      "cell_type": "code",
      "source": [
        "import re\n",
        "# Function to format text into poem-like structure\n",
        "def format_as_poem(text, words_per_line=5):\n",
        "    # Remove extra spaces and split into words\n",
        "    words = re.split(r'\\s+', text.strip())\n",
        "    lines = []\n",
        "    for i in range(0, len(words), words_per_line):\n",
        "        line = ' '.join(words[i:i + words_per_line])\n",
        "        lines.append(line)\n",
        "    # Join lines with newlines to form stanzas (e.g., 4 lines per stanza)\n",
        "    stanzas = []\n",
        "    for i in range(0, len(lines), 4):\n",
        "        stanza = '\\n'.join(lines[i:i + 4])\n",
        "        stanzas.append(stanza)\n",
        "    return '\\n\\n'. join(stanzas)\n",
        "\n",
        "# Generate text\n",
        "prompt = \"ድንግል ሆይ ለሀጥአን ታሥቢያለሽና\"\n",
        "output = generator(\n",
        "    prompt,\n",
        "    max_length=100,  # Increased for more content\n",
        "    num_return_sequences=1,\n",
        "    truncation=True,  # Explicitly enable truncation\n",
        "    do_sample=True,   # Enable sampling for creative output\n",
        "    top_k=50,         # Top-k sampling\n",
        "    temperature=0.7   # Control randomness\n",
        ")[0][\"generated_text\"]\n",
        "\n",
        "# Format the output as a poem\n",
        "poem = format_as_poem(output)\n",
        "print(\"Generated Poem:\\n\")\n",
        "print(poem)"
      ],
      "metadata": {
        "colab": {
          "base_uri": "https://localhost:8080/"
        },
        "id": "-IauIQFdUGzj",
        "outputId": "923c6b7f-13fe-4806-af68-485e6e9fb38d"
      },
      "execution_count": 49,
      "outputs": [
        {
          "output_type": "stream",
          "name": "stdout",
          "text": [
            "Generated Poem:\n",
            "\n",
            "ድንግል ሆይ ለሀጥአን ታሥቢያለሽና የ\n",
            "ደ በት ነው በት መ\n",
            "ላይ የ ባ ህ ለ\n",
            "ት ት ሠው ኝ አ\n",
            "\n",
            "ል አ ሉ መ እንደ\n",
            "ይ ት ሙ ነው ቅ\n",
            "ቱ ሏ ሸ ቺ ህ\n",
            "ባ ነው ቼ ማ ይ\n",
            "\n",
            "እንደ ኝ በት ሥ ማ\n",
            "ሎ ሾ ል ቅ ቢ\n",
            "ተ ሎ ነው ል በ\n",
            "ነው ለ ሩ በ ቀ\n",
            "\n",
            "በ ቀ ማ አ ይ\n",
            "ቆ ቢ ም ሉ ም\n",
            "ለ ቁ ታ ሥ ሎ\n",
            "ሪ ዳ ቀ ሪ ነው\n",
            "\n",
            "ና ነው ረ ሡ ለ\n",
            "ሇ ቁ ሸ ሇ ባ\n",
            "ሊ ቼ ው ሥ ባ\n",
            "በት ህ በ\n"
          ]
        }
      ]
    },
    {
      "cell_type": "code",
      "source": [],
      "metadata": {
        "id": "lpnas3i2Uibc"
      },
      "execution_count": null,
      "outputs": []
    }
  ]
}