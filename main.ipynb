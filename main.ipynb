{
 "cells": [
  {
   "cell_type": "code",
   "execution_count": 7,
   "id": "585a4b89",
   "metadata": {},
   "outputs": [],
   "source": [
    "import numpy as np\n",
    "import re\n"
   ]
  },
  {
   "cell_type": "code",
   "execution_count": 2,
   "id": "936e837b",
   "metadata": {},
   "outputs": [],
   "source": [
    "path_data = f\"data/poem-data.txt\"\n",
    "path_to_file2 = f\"data/Laurences_generated_poetry.txt\""
   ]
  },
  {
   "cell_type": "code",
   "execution_count": 5,
   "id": "b6d41920",
   "metadata": {},
   "outputs": [
    {
     "name": "stdout",
     "output_type": "stream",
     "text": [
      "Length of text: 5789 characters\n"
     ]
    }
   ],
   "source": [
    "text = open(path_data, \"r\", encoding=\"utf-8\").read()\n",
    "print(\"Length of text: {} characters\".format(len(text)))"
   ]
  },
  {
   "cell_type": "code",
   "execution_count": 4,
   "id": "04056f67",
   "metadata": {},
   "outputs": [
    {
     "name": "stdout",
     "output_type": "stream",
     "text": [
      "Length of text: 68969 characters\n"
     ]
    }
   ],
   "source": [
    "text = open(path_to_file2, \"r\", encoding=\"utf-8\").read()\n",
    "print(\"Length of text: {} characters\".format(len(text)))"
   ]
  },
  {
   "cell_type": "code",
   "execution_count": null,
   "id": "13b4b55e",
   "metadata": {},
   "outputs": [],
   "source": [
    "\n",
    "# Input and output file paths\n",
    "input_file = \"original_poems.txt\"     # Your collected poems\n",
    "output_file = \"cleaned_poems.txt\"     # Where cleaned text will go\n",
    "\n",
    "# Read original file\n",
    "with open(input_file, 'r', encoding='utf-8') as file:\n",
    "    text = file.read()\n",
    "\n",
    "# Clean: keep only Amharic (and other alphabetic) letters and optional spaces\n",
    "cleaned_text = re.sub(r'[^\\w\\s]', '', text)  # Keep letters and spaces\n",
    "cleaned_text = re.sub(r'[\\d_]', '', cleaned_text)  # Remove digits and underscores\n",
    "\n",
    "# Save cleaned text\n",
    "with open(output_file, 'w', encoding='utf-8') as file:\n",
    "    file.write(cleaned_text)\n",
    "\n",
    "print(\"Cleaning complete. Saved to:\", output_file)\n"
   ]
  }
 ],
 "metadata": {
  "kernelspec": {
   "display_name": "Python 3",
   "language": "python",
   "name": "python3"
  },
  "language_info": {
   "codemirror_mode": {
    "name": "ipython",
    "version": 3
   },
   "file_extension": ".py",
   "mimetype": "text/x-python",
   "name": "python",
   "nbconvert_exporter": "python",
   "pygments_lexer": "ipython3",
   "version": "3.12.4"
  }
 },
 "nbformat": 4,
 "nbformat_minor": 5
}
