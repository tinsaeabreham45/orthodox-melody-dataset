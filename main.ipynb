{
 "cells": [
  {
   "cell_type": "code",
   "execution_count": 7,
   "id": "585a4b89",
   "metadata": {},
   "outputs": [],
   "source": [
    "import numpy as np\n",
    "import re\n"
   ]
  },
  {
   "cell_type": "code",
   "execution_count": 32,
   "id": "936e837b",
   "metadata": {},
   "outputs": [],
   "source": [
    "path_data = f\"data/poem-data.txt\"\n",
    "path_to_file2 = f\"data/Laurences_generated_poetry.txt\""
   ]
  },
  {
   "cell_type": "code",
   "execution_count": 33,
   "id": "b6d41920",
   "metadata": {},
   "outputs": [
    {
     "name": "stdout",
     "output_type": "stream",
     "text": [
      "Length of text: 25484 characters\n"
     ]
    }
   ],
   "source": [
    "text = open(path_data, \"r\", encoding=\"utf-8\").read()\n",
    "print(\"Length of text: {} characters\".format(len(text)))"
   ]
  },
  {
   "cell_type": "code",
   "execution_count": 18,
   "id": "04056f67",
   "metadata": {},
   "outputs": [
    {
     "name": "stdout",
     "output_type": "stream",
     "text": [
      "Length of text: 68969 characters\n"
     ]
    }
   ],
   "source": [
    "text = open(path_to_file2, \"r\", encoding=\"utf-8\").read()\n",
    "print(\"Length of text: {} characters\".format(len(text)))"
   ]
  },
  {
   "cell_type": "code",
   "execution_count": 13,
   "id": "13b4b55e",
   "metadata": {},
   "outputs": [
    {
     "name": "stdout",
     "output_type": "stream",
     "text": [
      "Cleaned text saved with word spacing to: data/cleaned_poems.txt\n"
     ]
    }
   ],
   "source": [
    "import re\n",
    "\n",
    "# Input and output file paths\n",
    "input_file = \"data/poem-data.txt\"\n",
    "output_file = \"data/cleaned_poems.txt\"\n",
    "\n",
    "# Read the original file\n",
    "with open(input_file, 'r', encoding='utf-8') as file:\n",
    "    text = file.read()\n",
    "\n",
    "# Replace common Amharic punctuation (፡, ፤, ።, etc.) with space\n",
    "text = re.sub(r'[፡]', ' ', text)\n",
    "\n",
    "# Remove all non-letter characters except spaces\n",
    "cleaned_text = re.sub(r'[^\\w\\s]', '', text)      # Remove other punctuations\n",
    "cleaned_text = re.sub(r'[\\d_]', '', cleaned_text)  # Remove digits and underscores\n",
    "\n",
    "# Normalize multiple spaces to single space\n",
    "cleaned_text = re.sub(r'\\s+', ' ', cleaned_text)\n",
    "\n",
    "# Save cleaned text\n",
    "with open(output_file, 'w', encoding='utf-8') as file:\n",
    "    file.write(cleaned_text.strip())\n",
    "\n",
    "print(\"Cleaned text saved with word spacing to:\", output_file)\n"
   ]
  },
  {
   "cell_type": "code",
   "execution_count": 25,
   "id": "e16c3e86",
   "metadata": {},
   "outputs": [
    {
     "name": "stdout",
     "output_type": "stream",
     "text": [
      "✅ Cleaned 988 lines. Output saved to: data/cleaned_poems_lines.txt\n"
     ]
    }
   ],
   "source": [
    "\n",
    "# Input and output file paths\n",
    "input_file = \"data/poem-data.txt\"\n",
    "output_file = \"data/cleaned_poems_lines.txt\"\n",
    "\n",
    "# Read the original file\n",
    "with open(input_file, 'r', encoding='utf-8') as file:\n",
    "    lines = file.readlines()\n",
    "\n",
    "cleaned_lines = []\n",
    "\n",
    "for line in lines:\n",
    "    # Replace common Amharic punctuation with spaces\n",
    "    line = re.sub(r'[፡፤።፥፣፦፧]', ' ', line)\n",
    "\n",
    "    # Remove all non-letter characters except spaces\n",
    "    line = re.sub(r'[^\\w\\s]', '', line)\n",
    "    line = re.sub(r'[\\d_]', '', line)\n",
    "\n",
    "    # Normalize multiple spaces to a single space\n",
    "    line = re.sub(r'\\s+', ' ', line).strip()\n",
    "\n",
    "    # Append cleaned line if it's not empty\n",
    "    if line:\n",
    "        cleaned_lines.append(line)\n",
    "\n",
    "# Save each line as one cleaned poem line\n",
    "with open(output_file, 'w', encoding='utf-8') as file:\n",
    "    for line in cleaned_lines:\n",
    "        file.write(line + '\\n')\n",
    "\n",
    "print(f\"✅ Cleaned {len(cleaned_lines)} lines. Output saved to: {output_file}\")\n"
   ]
  },
  {
   "cell_type": "code",
   "execution_count": null,
   "id": "b0789458",
   "metadata": {},
   "outputs": [],
   "source": []
  }
 ],
 "metadata": {
  "kernelspec": {
   "display_name": "Python 3",
   "language": "python",
   "name": "python3"
  },
  "language_info": {
   "codemirror_mode": {
    "name": "ipython",
    "version": 3
   },
   "file_extension": ".py",
   "mimetype": "text/x-python",
   "name": "python",
   "nbconvert_exporter": "python",
   "pygments_lexer": "ipython3",
   "version": "3.12.4"
  }
 },
 "nbformat": 4,
 "nbformat_minor": 5
}
