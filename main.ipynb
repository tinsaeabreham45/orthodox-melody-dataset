{
 "cells": [
  {
   "cell_type": "code",
   "execution_count": 4,
   "id": "585a4b89",
   "metadata": {},
   "outputs": [],
   "source": [
    "import numpy as np\n",
    "import re"
   ]
  },
  {
   "cell_type": "code",
   "execution_count": 24,
   "id": "936e837b",
   "metadata": {},
   "outputs": [],
   "source": [
    "path_data = f\"data/poem-data.txt\"\n",
    "clean_path = f\"data/cleaned_poems_lines.txt\"\n",
    "path_to_file2 = f\"data/Laurences_generated_poetry.txt\"\n",
    "norm_path = f\"data/normalized_poems.txt\""
   ]
  },
  {
   "cell_type": "code",
   "execution_count": 25,
   "id": "723239d2",
   "metadata": {},
   "outputs": [
    {
     "name": "stdout",
     "output_type": "stream",
     "text": [
      "Length of text: 116025 characters\n"
     ]
    }
   ],
   "source": [
    "text = open(norm_path, \"r\", encoding=\"utf-8\").read()\n",
    "print(\"Length of text: {} characters\".format(len(text)))"
   ]
  },
  {
   "cell_type": "code",
   "execution_count": 19,
   "id": "04056f67",
   "metadata": {},
   "outputs": [
    {
     "name": "stdout",
     "output_type": "stream",
     "text": [
      "Length of text: 122756 characters\n"
     ]
    }
   ],
   "source": [
    "text = open(path_data, \"r\", encoding=\"utf-8\").read()\n",
    "print(\"Length of text: {} characters\".format(len(text)))"
   ]
  },
  {
   "cell_type": "code",
   "execution_count": 20,
   "id": "e16c3e86",
   "metadata": {},
   "outputs": [
    {
     "name": "stdout",
     "output_type": "stream",
     "text": [
      "✅ Cleaned 6077 lines. Output saved to: data/cleaned_poems_lines.txt\n"
     ]
    }
   ],
   "source": [
    "\n",
    "# Input and output file paths\n",
    "input_file = \"data/poem-data.txt\"\n",
    "output_file = \"data/cleaned_poems_lines.txt\"\n",
    "\n",
    "# Read the original file\n",
    "with open(input_file, 'r', encoding='utf-8') as file:\n",
    "    lines = file.readlines()\n",
    "\n",
    "cleaned_lines = []\n",
    "\n",
    "for line in lines:\n",
    "    # Replace common Amharic punctuation with spaces\n",
    "    line = re.sub(r'[፡፤።፥፣፦፧]', ' ', line)\n",
    "\n",
    "    # Remove all non-letter characters except spaces\n",
    "    line = re.sub(r'[^\\w\\s]', '', line)\n",
    "    line = re.sub(r'[\\d_]', '', line)\n",
    "\n",
    "    # Normalize multiple spaces to a single space\n",
    "    line = re.sub(r'\\s+', ' ', line).strip()\n",
    "\n",
    "    # Append cleaned line if it's not empty\n",
    "    if line:\n",
    "        cleaned_lines.append(line)\n",
    "\n",
    "# Save each line as one cleaned poem line\n",
    "with open(output_file, 'w', encoding='utf-8') as file:\n",
    "    for line in cleaned_lines:\n",
    "        file.write(line + '\\n')\n",
    "\n",
    "print(f\"✅ Cleaned {len(cleaned_lines)} lines. Output saved to: {output_file}\")\n"
   ]
  },
  {
   "cell_type": "code",
   "execution_count": 21,
   "id": "b0789458",
   "metadata": {},
   "outputs": [
    {
     "name": "stdout",
     "output_type": "stream",
     "text": [
      "Total characters: 116025\n",
      "Total lines: 6077\n"
     ]
    }
   ],
   "source": [
    "with open(\"data/cleaned_poems_lines.txt\", \"r\", encoding=\"utf-8\") as f:\n",
    "    text = f.read()\n",
    "    print(\"Total characters:\", len(text))\n",
    "    print(\"Total lines:\", len(text.splitlines()))\n"
   ]
  },
  {
   "cell_type": "code",
   "execution_count": 23,
   "id": "7b86bfa6",
   "metadata": {},
   "outputs": [],
   "source": [
    "# Define character normalization mapping\n",
    "replacement_map = {\n",
    "    'ሃ': 'ሀ', 'ሐ': 'ሀ', 'ሓ': 'ሀ', 'ኃ': 'ሀ', 'ኀ': 'ሀ',\n",
    "    'ሑ': 'ሁ', 'ኁ': 'ሁ',\n",
    "    'ሒ': 'ሂ', 'ኂ': 'ሂ',\n",
    "    'ሔ': 'ሄ', 'ኄ': 'ሄ',\n",
    "    'ሕ': 'ህ', 'ኅ': 'ህ',\n",
    "    'ሖ': 'ሆ', 'ኆ': 'ሆ',\n",
    "\n",
    "    'ሰ': 'ሠ',\n",
    "    'ሱ': 'ሡ',\n",
    "    'ሲ': 'ሢ',\n",
    "    'ሳ': 'ሣ',\n",
    "    'ሴ': 'ሤ',\n",
    "    'ስ': 'ሥ',\n",
    "    'ሶ': 'ሦ',\n",
    "\n",
    "    'ዐ': 'አ',\n",
    "    'ዑ': 'ኡ',\n",
    "    'ዒ': 'ኢ',\n",
    "    'ዓ': 'አ',\n",
    "    'ዔ': 'ኤ',\n",
    "    'ዕ': 'እ',\n",
    "    'ዖ': 'ኦ', \n",
    "}\n",
    "\n",
    "# Read the original poem text file\n",
    "with open('data/cleaned_poems_lines.txt', 'r', encoding='utf-8') as file:\n",
    "    text = file.read()\n",
    "\n",
    "# Replace characters using the map\n",
    "for old_char, new_char in replacement_map.items():\n",
    "    text = text.replace(old_char, new_char)\n",
    "\n",
    "# Save the normalized text to a new file\n",
    "with open('data/normalized_poems.txt', 'w', encoding='utf-8') as file:\n",
    "    file.write(text)\n"
   ]
  },
  {
   "cell_type": "code",
   "execution_count": null,
   "id": "bf96504c",
   "metadata": {},
   "outputs": [],
   "source": []
  }
 ],
 "metadata": {
  "kernelspec": {
   "display_name": "Python 3",
   "language": "python",
   "name": "python3"
  },
  "language_info": {
   "codemirror_mode": {
    "name": "ipython",
    "version": 3
   },
   "file_extension": ".py",
   "mimetype": "text/x-python",
   "name": "python",
   "nbconvert_exporter": "python",
   "pygments_lexer": "ipython3",
   "version": "3.12.4"
  }
 },
 "nbformat": 4,
 "nbformat_minor": 5
}
